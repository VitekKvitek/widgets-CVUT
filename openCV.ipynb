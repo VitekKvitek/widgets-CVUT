{
 "cells": [
  {
   "cell_type": "code",
   "execution_count": 37,
   "metadata": {},
   "outputs": [],
   "source": [
    "import cv2 as cv\n",
    "import numpy as np\n",
    "import matplotlib.pyplot as plt\n",
    "import ipywidgets as widgets\n",
    "from IPython.display import display\n",
    "\n",
    "W = 400"
   ]
  },
  {
   "cell_type": "code",
   "execution_count": 38,
   "metadata": {},
   "outputs": [],
   "source": [
    "def draw_ellipse(img, major_axis_length):\n",
    "    img[:] = background_image\n",
    "    thickness = 2\n",
    "    line_type = 8\n",
    "\n",
    "    cv.ellipse(img,\n",
    "               (W // 2, W // 2),\n",
    "               (major_axis_length, W // 16),\n",
    "               45,  # Fixed angle\n",
    "               0,\n",
    "               360,\n",
    "               (255, 0, 0),\n",
    "               thickness,\n",
    "               line_type)\n",
    "\n"
   ]
  },
  {
   "cell_type": "code",
   "execution_count": 39,
   "metadata": {},
   "outputs": [],
   "source": [
    "\n",
    "background_image = cv.imread('chad.jpg')  # Replace with your image file\n",
    "background_image = cv.resize(background_image, (W, W))  # Resize to W x W if needed\n",
    "\n",
    "test_image = np.zeros((W, W, 3), dtype=np.uint8)\n"
   ]
  },
  {
   "cell_type": "code",
   "execution_count": 40,
   "metadata": {},
   "outputs": [],
   "source": [
    "def display_image(image, title):\n",
    "    image_rgb = cv.cvtColor(image, cv.COLOR_BGR2RGB)\n",
    "    plt.imshow(image_rgb)\n",
    "    plt.title(title)\n",
    "    plt.axis('off')\n",
    "    plt.show()\n",
    "\n"
   ]
  },
  {
   "cell_type": "code",
   "execution_count": 41,
   "metadata": {},
   "outputs": [],
   "source": [
    "# Function to update the image when the slider value changes\n",
    "def update_image(major_axis_length):\n",
    "    draw_ellipse(test_image, major_axis_length)\n",
    "    display_image(test_image, f\"Velikost hlavní osy elypsy {major_axis_length}\")"
   ]
  },
  {
   "cell_type": "code",
   "execution_count": 42,
   "metadata": {},
   "outputs": [
    {
     "data": {
      "application/vnd.jupyter.widget-view+json": {
       "model_id": "e06f832607bb48b0b0772e40fafc5909",
       "version_major": 2,
       "version_minor": 0
      },
      "text/plain": [
       "interactive(children=(IntSlider(value=100, description='Velikost hlavní osy', max=200, min=10), Output()), _do…"
      ]
     },
     "execution_count": 42,
     "metadata": {},
     "output_type": "execute_result"
    }
   ],
   "source": [
    "# Create an interactive slider\n",
    "slider = widgets.IntSlider(value=W // 4, min=10, max=W // 2, step=1, description='Hlavní osa')\n",
    "widgets.interactive(update_image, major_axis_length=slider)"
   ]
  },
  {
   "cell_type": "code",
   "execution_count": 43,
   "metadata": {},
   "outputs": [],
   "source": [
    "#display(slider)\n",
    "#update_image(W // 4)"
   ]
  }
 ],
 "metadata": {
  "kernelspec": {
   "display_name": "venv",
   "language": "python",
   "name": "python3"
  },
  "language_info": {
   "codemirror_mode": {
    "name": "ipython",
    "version": 3
   },
   "file_extension": ".py",
   "mimetype": "text/x-python",
   "name": "python",
   "nbconvert_exporter": "python",
   "pygments_lexer": "ipython3",
   "version": "3.12.3"
  }
 },
 "nbformat": 4,
 "nbformat_minor": 2
}
