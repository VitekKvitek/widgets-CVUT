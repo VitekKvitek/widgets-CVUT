{
 "cells": [
  {
   "cell_type": "code",
   "execution_count": null,
   "metadata": {},
   "outputs": [],
   "source": [
    "%load_ext autoreload\n",
    "%autoreload 1\n",
    "%aimport sheet\n",
    "\n",
    "import numpy as np\n",
    "import pandas as pd"
   ]
  },
  {
   "cell_type": "code",
   "execution_count": null,
   "metadata": {},
   "outputs": [],
   "source": [
    "sheet.initial_display()"
   ]
  },
  {
   "cell_type": "code",
   "execution_count": null,
   "metadata": {},
   "outputs": [],
   "source": [
    "# col = pd.MultiIndex.from_arrays([['Dataset 1', 'Dataset 1', 'Dataset 2', 'Dataset 2'],\n",
    "#                                 ['AP', 'FPRat95', 'AP', 'FPRat95']])\n",
    "\n",
    "# data = [[\"18\", \"25\", \"31\", \"10\"],\n",
    "# [\"95\", \"36\", \"28\", \"33\"],\n",
    "# [\"9\", \"42\", \"72\", \"22\"],\n",
    "# [\"12\", \"69\", \"85\", \"15\"]]\n",
    "# df = pd.DataFrame(data,columns=col)\n",
    "# df.index = (\"Method 1\", \"Method 2\", \"Method 3\", \"Method 4\")\n",
    "# df"
   ]
  }
 ],
 "metadata": {
  "kernelspec": {
   "display_name": "venv",
   "language": "python",
   "name": "python3"
  },
  "language_info": {
   "codemirror_mode": {
    "name": "ipython",
    "version": 3
   },
   "file_extension": ".py",
   "mimetype": "text/x-python",
   "name": "python",
   "nbconvert_exporter": "python",
   "pygments_lexer": "ipython3",
   "version": "3.10.12"
  }
 },
 "nbformat": 4,
 "nbformat_minor": 2
}
