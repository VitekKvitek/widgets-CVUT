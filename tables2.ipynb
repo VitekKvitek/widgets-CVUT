{
 "cells": [
  {
   "cell_type": "code",
   "execution_count": 16,
   "metadata": {},
   "outputs": [
    {
     "name": "stdout",
     "output_type": "stream",
     "text": [
      "The autoreload extension is already loaded. To reload it, use:\n",
      "  %reload_ext autoreload\n"
     ]
    },
    {
     "name": "stdout",
     "output_type": "stream",
     "text": [
      "bubub 1\n",
      "bubub 3\n",
      "bubub 2\n",
      "bubub 3\n",
      "bubub 4\n",
      "['one-way-street_cap_1.png', 'darkasphalt_wood_6.png', 'darkasphalt_canister_6.png', '01_Hanns_Klemm_Str_45_000000_000200.png', 'greyasphalt_axestump_7.png', 'one-way-street_pig_7.png', 'one-way-street_bagB_4.png', '13_Elly_Beinhorn_Str_000000_000230.png', 'validation_16.png', '01_Hanns_Klemm_Str_45_000009_000090.png', 'motorway_triangle_2.png', 'darkasphalt_stump_5.png', 'one-way-street_sleigh_5.png', 'motorway_bottles_1.png', 'validation_15.png', 'greyasphalt_pig_2.png', 'darkasphalt_wood_4.png', 'curvy-street_dog_4.png', 'darkasphalt_watercanS_5.png', 'one-way-street_sleigh_2.png', 'darkasphalt_bottles2_5.png', 'curvy-street_inliner_hubcap_7.png', 'gravel_canister_7.png', '04_Maurener_Weg_8_000008_000040.png', 'curvy-street_pig_frisbee_3.png', 'curvy-street_dog_5.png', 'greyasphalt_scooter_5.png', 'greyasphalt_dog_1.png', 'curvy-street_pig_frisbee_4.png', '01_Hanns_Klemm_Str_45_000011_000110.png', 'greyasphalt_skateboard_4.png', 'one-way-street_cartons2_7.png', 'validation_20.png', 'greyasphalt_pig_1.png', 'greyasphalt_pig_3.png', 'greyasphalt_stump_6.png', 'curvy-street_carton_4.png', 'darkasphalt_boxG_5.png', '04_Maurener_Weg_8_000007_000020.png', 'darkasphalt_axestump_6.png', 'one-way-street_sleigh_4.png', 'greyasphalt_helmetB_6.png', 'motorway_cans_1.png', 'motorway_cans3_7.png', '04_Maurener_Weg_8_000001_000030.png', '13_Elly_Beinhorn_Str_000002_000030.png', '04_Maurener_Weg_8_000000_000090.png', 'paving_bottles_2.png', 'motorway_axestump_2.png', 'greyasphalt_scooter_3.png', 'one-way-street_sleigh_3.png', 'motorway_bottleC_1.png', '13_Elly_Beinhorn_Str_000003_000200.png', 'darkasphalt_bucket_6.png', '04_Maurener_Weg_8_000001_000090.png', 'motorway_bottles_k.png', 'one-way-street_pig_8.png', 'greyasphalt_skateboard_5.png', '04_Maurener_Weg_8_000005_000110.png', 'greyasphalt_scooter_4.png', 'validation_13.png', 'one-way-street_cartons2_6.png', 'greyasphalt_canister_6.png', '04_Maurener_Weg_8_000008_000100.png', 'one-way-street_backpack_4.png', '04_Maurener_Weg_8_000004_000080.png', 'one-way-street_backpack2_2.png', 'greyasphalt_scooter_2.png', 'validation_17.png', '04_Maurener_Weg_8_000000_000030.png', '04_Maurener_Weg_8_000006_000040.png', 'darkasphalt_helmetO_6.png', '13_Elly_Beinhorn_Str_000002_000120.png', 'one-way-street_dog_4.png', 'motorway_stone_1.png', 'curvy-street_carton_2.png', '01_Hanns_Klemm_Str_45_000003_000180.png', 'greyasphalt_gnome_3.png', '13_Elly_Beinhorn_Str_000000_000050.png', 'greyasphalt_boot_6.png', '04_Maurener_Weg_8_000007_000080.png', 'greyasphalt_gnome_2.png', 'greyasphalt_boxG_7.png', '01_Hanns_Klemm_Str_45_000008_000120.png', 'motorway_stone_2.png', 'one-way-street_dog_6.png', 'one-way-street_sleigh_6.png', 'motorway_cans3_3.png', 'one-way-street_bagB_8.png', '01_Hanns_Klemm_Str_45_000002_000190.png', 'curvy-street_inliner_hubcap_3.png', 'curvy-street_skateboard_bag_1.png', '01_Hanns_Klemm_Str_45_000010_000110.png', 'paving_stump_7.png', 'one-way-street_inliner_9.png', 'paving_helmetG_7.png', 'gravel_cans3_3.png', '01_Hanns_Klemm_Str_45_000003_000210.png', 'one-way-street_backpack2_4.png', '04_Maurener_Weg_8_000004_000170.png', 'one-way-street_bagB_5.png', 'one-way-street_inliner_10.png', '01_Hanns_Klemm_Str_45_000008_000060.png', 'one-way-street_bagB_3.png', 'one-way-street_backpack_2.png', '01_Hanns_Klemm_Str_45_000008_000240.png', 'curvy-street_inliner_hubcap_4.png', 'animals12_Collared_Peccary_crossing_the_road.png', 'curvy-street_pig_frisbee_2.png', 'greyasphalt_pig_4.png', 'validation_9.png', 'darkasphalt_basket_6.png', 'motorway_boot_6_and_bird.png', 'one-way-street_backpack2_1.png', 'validation_1.png', 'one-way-street_sleigh_1.png', 'one-way-street_backpack2_5.png', 'gravel_log_3.png', 'one-way-street_cartons2_5.png', '13_Elly_Beinhorn_Str_000002_000090.png', 'greyasphalt_dog_3.png', 'curvy-street_inliner_hubcap_6.png', 'one-way-street_dog_3.png', 'motorway_helmetO_1.png', 'darkasphalt_bucket_1.png', 'one-way-street_backpack2_3.png', 'animals22_red_fox_on_road.png', 'one-way-street_dog_5.png', 'motorway_wood_2.png', 'curvy-street_pig_frisbee_1.png', '04_Maurener_Weg_8_000004_000020.png', 'obstacles07_czech_hedgehog.png', 'darkasphalt_wood_2.png', 'motorway_helmetB_3.png', '01_Hanns_Klemm_Str_45_000010_000050.png', '01_Hanns_Klemm_Str_45_000001_000120.png', '01_Hanns_Klemm_Str_45_000011_000170.png', '01_Hanns_Klemm_Str_45_000004_000180.png', 'curvy-street_dog_8.png', 'motorway_stump_2.png', '04_Maurener_Weg_8_000006_000130.png', 'greyasphalt_watercanB_7.png', 'validation_12.png', '04_Maurener_Weg_8_000005_000050.png', 'greyasphalt_boxG_4.png', 'one-way-street_cap_3.png', 'darkasphalt_boot_3.png', 'curvy-street_carton_3.png', 'gravel_bottle_2.png', '01_Hanns_Klemm_Str_45_000004_000210.png', 'motorway_boot_1.png', 'darkasphalt_cans_2.png', 'paving_watercanB_9.png', '01_Hanns_Klemm_Str_45_000000_000140.png', 'curvy-street_carton_1.png', 'one-way-street_pig_6.png', 'curvy-street_dog_3.png', 'greyasphalt_canister_3.png', 'paving_bottlesBC_5.png', 'obstacles12_rocks6.png', 'paving_axe_2.png', 'gravel_basket_3.png', 'greyasphalt_axestump_3.png', 'gravel_bottle_3.png', 'one-way-street_bagB_6.png', 'one-way-street_frisbee_9.png', '01_Hanns_Klemm_Str_45_000008_000180.png', 'darkasphalt_bottles_2.png', 'greyasphalt_scooter_1.png', 'cones04_Federation.png', '01_Hanns_Klemm_Str_45_000000_000080.png', 'curvy-street_inliner_hubcap_2.png', '04_Maurener_Weg_8_000001_000150.png', 'greyasphalt_pig_5.png', 'paving_wood_2.png', 'one-way-street_sleigh_7.png', 'motorway_boot_3.png', 'greyasphalt_dog_4.png', 'gravel_bucket_3.png', 'greyasphalt_dog_2.png', 'darkasphalt_axestump_3.png', 'paving_axe_4.png', 'curvy-street_inliner_hubcap_8.png', 'obstacles05_cardboard_czech_hedgehog.png', 'gravel_boot_5.png', '01_Hanns_Klemm_Str_45_000000_000230.png', 'validation_7.png', 'one-way-street_inliner_8.png', 'validation_10.png', 'curvy-street_dog_2.png', 'paving_cansPB_8.png', 'paving_axewood_5.png', 'greyasphalt_cansB_2.png', 'curvy-street_inliner_hubcap_1.png', 'curvy-street_inliner_hubcap_5.png', 'paving_axewood_8.png', 'one-way-street_backpack_3.png', 'paving_helmetG_3.png', 'curvy-street_dog_6.png', 'darkasphalt_bagP_5.png', 'gravel_axestump_3.png', 'validation_8.png', 'one-way-street_inliner_6.png', '04_Maurener_Weg_8_000005_000170.png', 'greyasphalt_bagB_5.png', 'obstacles06_cardboard_czech_hedgehog.png', 'greyasphalt_axestump_4.png', 'lost_tires08.png', 'greyasphalt_gnome_5.png', 'darkasphalt_bucket_3.png', 'obstacles12_rocks4.png', 'gravel_log_8.png', 'one-way-street_inliner_1.png', 'greyasphalt_gnome_4.png', 'one-way-street_bagB_1.png', 'gravel_cans2_2.png', 'greyasphalt_watercanS_7.png', 'gravel_boxG_4.png', 'curvy-street_inliner_hubcap_9.png', '01_Hanns_Klemm_Str_45_000001_000060.png', 'paving_bucket_6.png', '13_Elly_Beinhorn_Str_000000_000170.png', '01_Hanns_Klemm_Str_45_000010_000170.png', 'one-way-street_pig_4.png', 'gravel_cans2_5.png', 'one-way-street_sleigh_9.png', 'validation_36.png', 'greyasphalt_skateboard_2.png', '04_Maurener_Weg_8_000007_000140.png', '04_Maurener_Weg_8_000004_000140.png', 'gravel_stump_2.png', 'one-way-street_bagB_9.png', 'darkasphalt_cans2_5.png', 'one-way-street_inliner_4.png', '13_Elly_Beinhorn_Str_000000_000110.png', 'curvy-street_skateboard_bag_4.png', 'greyasphalt_skateboard_6.png', '01_Hanns_Klemm_Str_45_000009_000210.png', 'one-way-street_sleigh_10.png', 'validation_5.png', 'obstacles12_rocks5.png', 'one-way-street_sleigh_8.png', 'curvy-street_skateboard_bag_3.png', 'paving_helmetG_1.png', 'one-way-street_bagB_2.png', 'motorway_watercanS_1.png', 'animals31_deer.png', 'cones01_Beeston_MMB_A6_Middle_Street.png', 'paving_wood_3.png', '04_Maurener_Weg_8_000003_000030.png', 'obstacles12_rocks2.png', 'gravel_boot_1.png', 'darkasphalt_canister_3.png', 'gravel_canister_4.png', 'gravel_bottles_5.png', 'greyasphalt_stump_3.png', '01_Hanns_Klemm_Str_45_000011_000200.png', '01_Hanns_Klemm_Str_45_000002_000070.png', 'one-way-street_pig_3.png', 'darkasphalt_bagB_6.png', 'curvy-street_pig_frisbee_6.png', 'gravel_watercanB_4.png', 'one-way-street_inliner_7.png', 'greyasphalt_boot_3.png', 'paving_axestump_2.png', '01_Hanns_Klemm_Str_45_000003_000090.png', 'paving_canister_4.png', 'greyasphalt_gnome_6.png', '04_Maurener_Weg_8_000002_000060.png', 'curvy-street_dog_1.png', 'greyasphalt_basket_7.png', 'greyasphalt_skateboard_3.png', 'gravel_bottle_4.png', 'greyasphalt_cansA_1.png', '04_Maurener_Weg_8_000001_000180.png', 'darkasphalt2_dog_1.png', '04_Maurener_Weg_8_000002_000120.png', '04_Maurener_Weg_8_000000_000150.png', 'animals27_wildlife_bear.png', '01_Hanns_Klemm_Str_45_000012_000220.png', '04_Maurener_Weg_8_000001_000210.png', 'one-way-street_pig_9.png', 'gravel_bagP_4.png', 'validation_18.png', 'gravel_helmetG_2.png', 'one-way-street_dog_1.png', 'paving_basket_5.png', 'greyasphalt_bottle_2.png', 'paving_watercanB_5.png', 'greyasphalt_skateboard_1.png', 'one-way-street_dog_2.png', 'paving_bag_6.png', 'curvy-street_umbrella_2.png', 'darkasphalt_bucket_4.png', 'animals04_17_animal_casualties_so_far_in_2006.png', 'motorway_wood_4.png', '04_Maurener_Weg_8_000005_000200.png', 'gravel_boot_2.png', '04_Maurener_Weg_8_000004_000200.png', 'gravel_boxG_2.png', 'paving_bottles_1.png', '01_Hanns_Klemm_Str_45_000009_000150.png', 'paving_helmetB_7.png', 'one-way-street_frisbee_8.png', 'paving_boot_7.png', 'curvy-street_skateboard_bag_5.png', 'validation_4.png', 'gravel_basket_2.png', 'one-way-street_backpack_1.png', 'darkasphalt_boxG_3.png', 'darkasphalt_helmetO_2.png', 'one-way-street_inliner_3.png', '01_Hanns_Klemm_Str_45_000012_000280.png', 'one-way-street_cartons2_2.png', 'one-way-street_pig_1.png', 'motorway_wood_7.png', '01_Hanns_Klemm_Str_45_000001_000180.png', '01_Hanns_Klemm_Str_45_000002_000220.png', 'curvy-street_dog_10.png', 'curvy-street_carton_5.png', '04_Maurener_Weg_8_000003_000090.png', 'animals21_On_The_Road_to_Gondar_Ethiopia.png', 'animals11_Cock_Pheasant_on_Romford_Road.png', '04_Maurener_Weg_8_000007_000170.png', 'darkasphalt2_dog_3.png', 'motorway_helmetB_1.png', '01_Hanns_Klemm_Str_45_000002_000130.png', 'curvy-street_umbrella_4.png', 'gravel_watercanB_7.png', '01_Hanns_Klemm_Str_45_000012_000250.png', 'motorway_basket_4.png', 'gravel_axestump_2.png', 'one-way-street_inliner_2.png', 'curvy-street_umbrella_3.png', 'greyasphalt_stump_2.png', 'animals25_jablonna_dziki.png', '01_Hanns_Klemm_Str_45_000001_000210.png', 'darkasphalt_bagP_3.png', 'gravel_canister_1.png', 'animals06_sheep_roads_lambs.png', 'lost_tires09.png', 'paving_watercanS_4.png', 'cones08_can.png', 'motorway_watercanB_1.png', 'paving_helmetB_2.png', 'one-way-street_inliner_5.png', 'greyasphalt_helmetB_2.png', '01_Hanns_Klemm_Str_45_000011_000230.png', 'animals18_Goose_on_the_road_Memphis.png', 'validation_33.png', '13_Elly_Beinhorn_Str_000003_000140.png', 'cones02_Broadmoor_Manhole_Cones.png', 'paving_watercanS_8.png', 'curvy-street_dog_9.png', 'gravel_watercanB_2.png', 'cones07.png', '01_Hanns_Klemm_Str_45_000010_000200.png', 'validation_34.png', 'darkasphalt2_dog_17.png', 'validation_31.png', 'greyasphalt_gnome_1.png', 'curvy-street_umbrella_1.png', '01_Hanns_Klemm_Str_45_000003_000030.png', 'vehicle03_Fuhrwerke_in_China.png', '04_Maurener_Weg_8_000008_000130.png', 'motorway_cans3_1.png', 'darkasphalt_helmetO_1.png', 'animals10_bovine_cattle_beside_road.png', 'animals20_Marcassin_Conchiglio.png', 'motorway_basket_1.png', 'validation_30.png', 'gravel_canister_3.png', 'animals17_E6_near_Kvaenangen.png', 'validation_35.png', 'paving_helmetB_1.png', 'greyasphalt_watercanB_1.png', 'validation_38.png', 'greyasphalt_bag_4.png', 'gravel_watercanS_2.png', 'greyasphalt_scooter_6.png', 'paving_cans_2.png', 'paving_canister_8.png', 'animals14_Dekemhare_Road.png', 'validation_14.png', 'paving_bucket_3.png', '13_Elly_Beinhorn_Str_000003_000080.png', 'one-way-street_pig_5.png', 'darkasphalt_basket_3.png', 'darkasphalt_stump_1.png', 'paving_stump_2.png', 'validation_11.png', '13_Elly_Beinhorn_Str_000000_000290.png', 'darkasphalt_cans_1.png', 'greyasphalt_basket_3.png', 'curvy-street_dog_7.png', 'obstacles01_boulder.png', 'animals28.png', 'paving_boot_2.png', 'obstacles04_cardboard_czech_hedgehog.png', 'greyasphalt_watercanB_4.png', 'curvy-street_pig_frisbee_5.png', '04_Maurener_Weg_8_000006_000100.png', '01_Hanns_Klemm_Str_45_000003_000150.png', 'curvy-street_skateboard_bag_2.png', '04_Maurener_Weg_8_000008_000160.png', 'greyasphalt_helmetB_1.png', 'darkasphalt_stump_2.png', 'gravel_bag_3.png', 'paving_canister_1.png', 'animals30.png', 'curvy-street_carton_6.png', 'greyasphalt_bottle_1.png', 'cones03_Bang_Na_Trat_Highway.png', 'greyasphalt_dog_6.png', 'animals26_Unnamed_Road_Kazakhstan.png', 'animals24_Sheep_Herders_Block_the_Road_Kaleybar_to_Eskanlu.png', 'validation_39.png', 'one-way-street_pig_2.png', 'greyasphalt_boxG_2.png', 'paving_basket_3.png', 'gravel_log_2.png', 'greyasphalt_basket_4.png', 'greyasphalt_basket_1.png', 'greyasphalt_canister_2.png', 'darkasphalt_bagP_1.png', 'animals29_Zebra_Crossing_Abbey_Road_Style.png', 'one-way-street_cartons2_4.png', 'darkasphalt_axestump_2.png', 'greyasphalt_axestump_2.png', 'gravel_stump_1.png', 'animals02_Zagori_On_the_road_to_Papigko.png', 'animals08_on_the_main_street_of_village_Lin_Albania.png', 'validation_6.png', 'animals13_jeune_bovin_sur_la_route.png', '01_Hanns_Klemm_Str_45_000011_000260.png', 'one-way-street_cap_2.png', 'one-way-street_bagB_7.png', 'animals07_Aihole_Pattadakal.png', 'greyasphalt_bottlesB_5.png', 'validation_37.png', 'greyasphalt_boot_2.png', 'darkasphalt_boxG_1.png', 'motorway_bucket_3.png', 'motorway_stump_3.png', 'motorway_bottleC_3.png', 'darkasphalt2_dog_14.png', 'lost_tires03.png', '01_Hanns_Klemm_Str_45_000004_000120.png', 'darkasphalt2_dog_5.png', '13_Elly_Beinhorn_Str_000003_000260.png', 'one-way-street_cartons2_3.png', 'paving_watercanB_2.png', 'darkasphalt2_dog_2.png', 'darkasphalt_watercanS_2.png', '04_Maurener_Weg_8_000008_000190.png', 'greyasphalt_watercanS_2.png', 'one-way-street_cartons2_1.png', '01_Hanns_Klemm_Str_45_000011_000050.png', 'obstacles09_boulder3.png', 'obstacles03_cardboard_czech_hedgehog.png', 'greyasphalt_pig_6.png', 'darkasphalt_boot_2.png', 'motorway_canister_3.png', 'animals01_Guiguinto_railway_station_Calves.png', 'motorway_bottleC_5.png', 'validation_40.png', '04_Maurener_Weg_8_000000_000180.png', '13_Elly_Beinhorn_Str_000000_000260.png', 'paving_bag_3.png', 'darkasphalt_bottles_1.png', '04_Maurener_Weg_8_000002_000150.png', 'obstacles10_boulder4.png', 'darkasphalt_canister_2.png', 'darkasphalt_basket_2.png', 'animals05_cows_near_Phonsavan_Laos.png', 'vehicle02_Broadmoor_Cones_Skidloader.png', 'paving_watercanS_2.png', 'cones06_VnA_traffic_cones.png', 'animals03_Zebras_in_the_road.png', 'one-way-street_frisbee_7.png', 'one-way-street_frisbee_1.png', 'one-way-street_frisbee_3.png', 'validation_3.png', 'darkasphalt_bag_3.png', 'greyasphalt_bag_3.png', 'cones05_Corner_of_Kingsley_Park.png', 'darkasphalt2_dog_4.png', 'obstacles11_boulder5.png', '04_Maurener_Weg_8_000003_000120.png', 'paving_boot_1.png', 'one-way-street_frisbee_4.png', 'animals16_Donkeys_of_Morocco.png', 'animals15_Doebeln_Pferdebahn.png', 'obstacles02_rock.png', 'animals19_Porte_de_Roubaix.png', 'validation_32.png', 'one-way-street_frisbee_2.png', '01_Hanns_Klemm_Str_45_000000_000260.png', 'animals09_working_together.png', 'paving_wood_6.png', 'vehicle01_man_carrying_dry_grass_on_bicycle.png', 'greyasphalt_dog_5.png', 'one-way-street_frisbee_6.png', 'validation_2.png', 'animals23_rhino_crossing_road.png', 'obstacles08_boulder2.png', 'one-way-street_frisbee_5.png', '01_Hanns_Klemm_Str_45_000001_000240.png', '01_Hanns_Klemm_Str_45_000005_000080.png', '01_Hanns_Klemm_Str_45_000005_000140.png', '01_Hanns_Klemm_Str_45_000005_000200.png', '01_Hanns_Klemm_Str_45_000005_000230.png', '01_Hanns_Klemm_Str_45_000012_000160.png', '13_Elly_Beinhorn_Str_000001_000080.png', '13_Elly_Beinhorn_Str_000001_000140.png', '13_Elly_Beinhorn_Str_000001_000200.png', '13_Elly_Beinhorn_Str_000001_000230.png']\n",
      "darkasphalt_wood_6.png\n",
      "RO21A\n",
      "one-way-street_cap_1.png\n",
      "RO21A\n"
     ]
    }
   ],
   "source": [
    "%load_ext autoreload\n",
    "%autoreload 1\n",
    "%aimport sheet\n",
    "# TODO - delete this import\n",
    "%aimport results_comparer\n"
   ]
  },
  {
   "cell_type": "code",
   "execution_count": 17,
   "metadata": {},
   "outputs": [],
   "source": [
    "sheet.initial_display()"
   ]
  },
  {
   "cell_type": "code",
   "execution_count": 18,
   "metadata": {},
   "outputs": [],
   "source": [
    "# indexes = sheet.get_all_displayed_algos()\n",
    "# print(indexes[0])"
   ]
  },
  {
   "cell_type": "code",
   "execution_count": 19,
   "metadata": {},
   "outputs": [
    {
     "name": "stdout",
     "output_type": "stream",
     "text": [
      "bubub 3\n"
     ]
    }
   ],
   "source": [
    "results_comparer.compare_results()"
   ]
  },
  {
   "cell_type": "code",
   "execution_count": 20,
   "metadata": {},
   "outputs": [
    {
     "data": {
      "application/vnd.jupyter.widget-view+json": {
       "model_id": "8318ff3eb9c9450a8c9d52e2229cde35",
       "version_major": 2,
       "version_minor": 0
      },
      "text/plain": [
       "Dropdown(description='Algo:', options=('grood_knn_e2e_cityscapes_500k_fl003_condensv5_randomcrop1344_hflip_npt…"
      ]
     },
     "metadata": {},
     "output_type": "display_data"
    },
    {
     "data": {
      "application/vnd.jupyter.widget-view+json": {
       "model_id": "3baed27a7fc84f89a7e69a7398a93552",
       "version_major": 2,
       "version_minor": 0
      },
      "text/plain": [
       "Dropdown(description='Algo:', options=('grood_knn_e2e_cityscapes_500k_fl003_condensv5_randomcrop1344_hflip_npt…"
      ]
     },
     "metadata": {},
     "output_type": "display_data"
    },
    {
     "data": {
      "application/vnd.jupyter.widget-view+json": {
       "model_id": "dfaf32fff1c74e229fc10a037a58ce1d",
       "version_major": 2,
       "version_minor": 0
      },
      "text/plain": [
       "Dropdown(description='File:', options=(), value=None)"
      ]
     },
     "metadata": {},
     "output_type": "display_data"
    }
   ],
   "source": [
    "results_comparer.display_controls()"
   ]
  },
  {
   "cell_type": "markdown",
   "metadata": {},
   "source": []
  },
  {
   "cell_type": "code",
   "execution_count": null,
   "metadata": {},
   "outputs": [],
   "source": []
  }
 ],
 "metadata": {
  "kernelspec": {
   "display_name": "venv",
   "language": "python",
   "name": "python3"
  },
  "language_info": {
   "codemirror_mode": {
    "name": "ipython",
    "version": 3
   },
   "file_extension": ".py",
   "mimetype": "text/x-python",
   "name": "python",
   "nbconvert_exporter": "python",
   "pygments_lexer": "ipython3",
   "version": "3.10.12"
  }
 },
 "nbformat": 4,
 "nbformat_minor": 2
}
