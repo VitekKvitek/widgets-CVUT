{
 "cells": [
  {
   "cell_type": "code",
   "execution_count": 1,
   "metadata": {},
   "outputs": [],
   "source": [
    "import numpy as np\n",
    "import matplotlib.pyplot as plt\n",
    "import ipywidgets as widgets\n",
    "from IPython.display import display\n",
    "\n",
    "import settings_handler"
   ]
  },
  {
   "cell_type": "code",
   "execution_count": 2,
   "metadata": {},
   "outputs": [
    {
     "name": "stdout",
     "output_type": "stream",
     "text": [
      "{}\n",
      "{}\n",
      "{}\n",
      "{}\n",
      "{}\n",
      "{}\n"
     ]
    }
   ],
   "source": [
    "# Create a button widget\n",
    "save_button = widgets.Button(\n",
    "    description ='Save',\n",
    "    tooltip ='Click to save data',\n",
    "    button_style ='success'  # 'success' (green), 'info' (blue), 'warning' (yellow), 'danger' (red)\n",
    ")\n",
    "save_button.on_click(settings_handler.save)\n",
    "# Create a button widget\n",
    "load_button = widgets.Button(\n",
    "    description ='Load',\n",
    "    tooltip ='Click to load data',\n",
    "    button_style ='success'  # 'success' (green), 'info' (blue), 'warning' (yellow), 'danger' (red)\n",
    ")\n",
    "load_button.on_click(settings_handler.load_widget_states)"
   ]
  },
  {
   "cell_type": "code",
   "execution_count": 3,
   "metadata": {},
   "outputs": [
    {
     "name": "stdout",
     "output_type": "stream",
     "text": [
      "{'name': 'settings.json', 'type': 'application/json', 'size': 97, 'content': <memory at 0x7fb2495df280>, 'last_modified': datetime.datetime(2024, 7, 24, 10, 47, 9, 969000, tzinfo=datetime.timezone.utc)}\n",
      "{'fslider': 5.3, 'aslider': 1.0000000000000002, 'select_menu_1': 'sine', 'select_menu_2': 'sine'}\n",
      "{'fslider': 5.3, 'aslider': 1.0000000000000002, 'select_menu_1': 'sine', 'select_menu_2': 'sine'}\n"
     ]
    }
   ],
   "source": [
    "uploader_widget = widgets.FileUpload(\n",
    "    accept ='.json',\n",
    "    multiple = False,\n",
    "    )\n",
    "uploader_widget.observe(settings_handler.load, names = 'value') # observes change in value of the widget"
   ]
  },
  {
   "cell_type": "code",
   "execution_count": 4,
   "metadata": {},
   "outputs": [],
   "source": [
    "# Creates IntSlider widgets for frequency and amplitude\n",
    "frequency_slider = widgets.FloatSlider(value=1, min=0.1, max=10, step=0.1, description='Frequency:')\n",
    "settings_handler.add(frequency_slider,'fslider')\n",
    "\n",
    "amplitude_slider = widgets.FloatSlider(value=1, min=0.1, max=10, step=0.1, description='Amplitude:')\n",
    "settings_handler.add(amplitude_slider, 'aslider')"
   ]
  },
  {
   "cell_type": "code",
   "execution_count": 5,
   "metadata": {},
   "outputs": [],
   "source": [
    "method_option = ['sine', 'cosine']\n",
    "\n",
    "# Creates 2 selection menus to choose a fuction from\n",
    "select_menu_1 = widgets.Dropdown(\n",
    "    options = method_option,\n",
    "    value='sine', # default value ?\n",
    "    description='Show:',\n",
    "    disabled=False,\n",
    ")\n",
    "settings_handler.add(select_menu_1, 'select_menu_1')\n",
    "\n",
    "select_menu_2 = widgets.Dropdown(\n",
    "    options = method_option,\n",
    "    value='sine', # default value ?\n",
    "    description='Show:',\n",
    "    disabled=False,\n",
    ")\n",
    "settings_handler.add(select_menu_2, 'select_menu_2')"
   ]
  },
  {
   "cell_type": "code",
   "execution_count": 6,
   "metadata": {},
   "outputs": [],
   "source": [
    "# Function to calculate sine y axis\n",
    "def calculate_sine(x, frequency, amplitude):\n",
    "    y = amplitude * np.sin(frequency * x)\n",
    "    return y    "
   ]
  },
  {
   "cell_type": "code",
   "execution_count": 7,
   "metadata": {},
   "outputs": [],
   "source": [
    "# Function to calculate cosine y axis\n",
    "def calculate_cosine(x, frequency, amplitude):\n",
    "    y = amplitude *  np.cos(frequency * x)\n",
    "    return y    "
   ]
  },
  {
   "cell_type": "code",
   "execution_count": 8,
   "metadata": {},
   "outputs": [],
   "source": [
    "# Dictionary to convert string to function\n",
    "function_dic = {\n",
    "    \"sine\" : calculate_sine,\n",
    "    \"cosine\" : calculate_cosine\n",
    "}"
   ]
  },
  {
   "cell_type": "code",
   "execution_count": 9,
   "metadata": {},
   "outputs": [],
   "source": [
    "# Function that creates and plots the whole graph\n",
    "def plot_graph(frequency, amplitude, graph_1, graph_2):\n",
    "    # sets figure size\n",
    "    plt.figure(figsize=(10, 6))\n",
    "    # sets the x axis\n",
    "    x = np.linspace(0, 2 * np.pi, 1000)    \n",
    "    # Calculates y axis for both functions\n",
    "    y1 = function_dic[graph_1](x, frequency, amplitude)\n",
    "    y2 = function_dic[graph_2](x, frequency, amplitude)\n",
    "    # Plots functions\n",
    "    plt.plot(x, y1, label = graph_1)\n",
    "    plt.plot(x, y2, label = graph_2)\n",
    "\n",
    "    plt.title(f'Frequency {round(frequency, 2)} and Amplitude {round(amplitude, 2)}')\n",
    "    plt.xlabel('x')\n",
    "    plt.grid(True)\n",
    "    plt.legend()\n",
    "    plt.show()\n",
    "    pass"
   ]
  },
  {
   "cell_type": "code",
   "execution_count": 10,
   "metadata": {},
   "outputs": [
    {
     "data": {
      "application/vnd.jupyter.widget-view+json": {
       "model_id": "91601e60c4644fcf95b60bca3facd174",
       "version_major": 2,
       "version_minor": 0
      },
      "text/plain": [
       "Button(button_style='success', description='Save', style=ButtonStyle(), tooltip='Click to save data')"
      ]
     },
     "metadata": {},
     "output_type": "display_data"
    },
    {
     "data": {
      "application/vnd.jupyter.widget-view+json": {
       "model_id": "2af789191e9840acaf7ae19a35fb813e",
       "version_major": 2,
       "version_minor": 0
      },
      "text/plain": [
       "Button(button_style='success', description='Load', style=ButtonStyle(), tooltip='Click to load data')"
      ]
     },
     "metadata": {},
     "output_type": "display_data"
    },
    {
     "data": {
      "application/vnd.jupyter.widget-view+json": {
       "model_id": "6bc3a76d59a3418597433689588276f8",
       "version_major": 2,
       "version_minor": 0
      },
      "text/plain": [
       "FileUpload(value=(), accept='.json', description='Upload')"
      ]
     },
     "metadata": {},
     "output_type": "display_data"
    },
    {
     "data": {
      "application/vnd.jupyter.widget-view+json": {
       "model_id": "0b798b84f1694216ac2a31c69b52a6ac",
       "version_major": 2,
       "version_minor": 0
      },
      "text/plain": [
       "interactive(children=(FloatSlider(value=1.0, description='Frequency:', max=10.0, min=0.1), FloatSlider(value=1…"
      ]
     },
     "metadata": {},
     "output_type": "display_data"
    }
   ],
   "source": [
    "# interactive to link the widgets to the plotting function\n",
    "\n",
    "interactive_plot = widgets.interactive(plot_graph, frequency=frequency_slider, \n",
    "                                       amplitude=amplitude_slider, graph_1 = select_menu_1, \n",
    "                                       graph_2 = select_menu_2)\n",
    "\n",
    "# Display the widgets and the plot\n",
    "display(save_button)\n",
    "display(load_button)\n",
    "display(uploader_widget)\n",
    "display(interactive_plot)"
   ]
  }
 ],
 "metadata": {
  "kernelspec": {
   "display_name": "venv",
   "language": "python",
   "name": "python3"
  },
  "language_info": {
   "codemirror_mode": {
    "name": "ipython",
    "version": 3
   },
   "file_extension": ".py",
   "mimetype": "text/x-python",
   "name": "python",
   "nbconvert_exporter": "python",
   "pygments_lexer": "ipython3",
   "version": "3.10.12"
  }
 },
 "nbformat": 4,
 "nbformat_minor": 2
}
