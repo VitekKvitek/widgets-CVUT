{
 "cells": [
  {
   "cell_type": "code",
   "execution_count": 25,
   "metadata": {},
   "outputs": [],
   "source": [
    "import numpy as np\n",
    "import matplotlib.pyplot as plt\n",
    "import ipywidgets as widgets\n",
    "from IPython.display import display\n",
    "\n",
    "# Custom scripts\n",
    "import settings_handler"
   ]
  },
  {
   "cell_type": "code",
   "execution_count": 26,
   "metadata": {},
   "outputs": [],
   "source": [
    "# Create a save button widget\n",
    "\n",
    "save_button = widgets.Button(\n",
    "    description ='Save',\n",
    "    tooltip ='Click to save data',\n",
    "    button_style ='success'  # 'success' (green), 'info' (blue), 'warning' (yellow), 'danger' (red)\n",
    ")\n",
    "save_button.on_click(settings_handler.save)"
   ]
  },
  {
   "cell_type": "code",
   "execution_count": 27,
   "metadata": {},
   "outputs": [],
   "source": [
    "# Cretes a text widget in which is written name of file you want to save current settings\n",
    "file_text_widget = widgets.Text(\n",
    "    value='',\n",
    "    placeholder='Do NOT include .json',\n",
    "    description='Settings name',\n",
    "    disabled=False   \n",
    ")\n",
    "file_text_widget.observe(settings_handler.set_file_name, names='value')"
   ]
  },
  {
   "cell_type": "code",
   "execution_count": 28,
   "metadata": {},
   "outputs": [],
   "source": [
    "# Create a save button widget\n",
    "load_button = widgets.Button(\n",
    "    description ='Load',\n",
    "    tooltip ='Click to load data',\n",
    "    button_style ='success'  # 'success' (green), 'info' (blue), 'warning' (yellow), 'danger' (red)\n",
    ")\n",
    "load_button.on_click(settings_handler.load_widget_states)"
   ]
  },
  {
   "cell_type": "code",
   "execution_count": 29,
   "metadata": {},
   "outputs": [],
   "source": [
    "# File upload widget\n",
    "uploader_widget = widgets.FileUpload(\n",
    "    accept ='.json',\n",
    "    multiple = False,\n",
    "    )\n",
    "uploader_widget.observe(settings_handler.load, names = 'value') # observes change in value of the widget"
   ]
  },
  {
   "cell_type": "code",
   "execution_count": 30,
   "metadata": {},
   "outputs": [],
   "source": [
    "# Creates IntSlider widgets for frequency and amplitude\n",
    "frequency_slider = widgets.FloatSlider(value=1, min=0.1, max=10, step=0.1, description='Frequency:')\n",
    "settings_handler.add(frequency_slider,'fslider')\n",
    "\n",
    "amplitude_slider = widgets.FloatSlider(value=1, min=0.1, max=10, step=0.1, description='Amplitude:')\n",
    "settings_handler.add(amplitude_slider, 'aslider')"
   ]
  },
  {
   "cell_type": "code",
   "execution_count": 31,
   "metadata": {},
   "outputs": [],
   "source": [
    "method_option = ['sine', 'cosine']\n",
    "\n",
    "# Creates 2 selection menus to choose a fuction from\n",
    "select_menu_1 = widgets.Dropdown(\n",
    "    options = method_option,\n",
    "    value='sine', # default value ?\n",
    "    description='Show:',\n",
    "    disabled=False,\n",
    ")\n",
    "settings_handler.add(select_menu_1, 'select_menu_1')\n",
    "\n",
    "select_menu_2 = widgets.Dropdown(\n",
    "    options = method_option,\n",
    "    value='sine', # default value ?\n",
    "    description='Show:',\n",
    "    disabled=False,\n",
    ")\n",
    "settings_handler.add(select_menu_2, 'select_menu_2')"
   ]
  },
  {
   "cell_type": "code",
   "execution_count": 32,
   "metadata": {},
   "outputs": [],
   "source": [
    "# Function to calculate sine y axis\n",
    "def calculate_sine(x, frequency, amplitude):\n",
    "    y = amplitude * np.sin(frequency * x)\n",
    "    return y    "
   ]
  },
  {
   "cell_type": "code",
   "execution_count": 33,
   "metadata": {},
   "outputs": [],
   "source": [
    "# Function to calculate cosine y axis\n",
    "def calculate_cosine(x, frequency, amplitude):\n",
    "    y = amplitude *  np.cos(frequency * x)\n",
    "    return y    "
   ]
  },
  {
   "cell_type": "code",
   "execution_count": 34,
   "metadata": {},
   "outputs": [],
   "source": [
    "# Dictionary to convert string to function\n",
    "function_dic = {\n",
    "    \"sine\" : calculate_sine,\n",
    "    \"cosine\" : calculate_cosine\n",
    "}"
   ]
  },
  {
   "cell_type": "code",
   "execution_count": 35,
   "metadata": {},
   "outputs": [],
   "source": [
    "# Function that creates and plots the whole graph\n",
    "def plot_graph(frequency, amplitude, graph_1, graph_2):\n",
    "    # sets figure size\n",
    "    plt.figure(figsize=(10, 6))\n",
    "    # sets the x axis\n",
    "    x = np.linspace(0, 2 * np.pi, 1000)    \n",
    "    # Calculates y axis for both functions\n",
    "    y1 = function_dic[graph_1](x, frequency, amplitude)\n",
    "    y2 = function_dic[graph_2](x, frequency, amplitude)\n",
    "    # Plots functions\n",
    "    plt.plot(x, y1, label = graph_1)\n",
    "    plt.plot(x, y2, label = graph_2)\n",
    "\n",
    "    plt.title(f'Frequency {round(frequency, 2)} and Amplitude {round(amplitude, 2)}')\n",
    "    plt.xlabel('x')\n",
    "    plt.grid(True)\n",
    "    plt.legend()\n",
    "    plt.show()\n",
    "    pass"
   ]
  },
  {
   "cell_type": "code",
   "execution_count": 36,
   "metadata": {},
   "outputs": [
    {
     "data": {
      "application/vnd.jupyter.widget-view+json": {
       "model_id": "b90ec91d16a54c1fbed75f5c62212036",
       "version_major": 2,
       "version_minor": 0
      },
      "text/plain": [
       "Text(value='', description='Settings name', placeholder='Do NOT include .json')"
      ]
     },
     "metadata": {},
     "output_type": "display_data"
    },
    {
     "data": {
      "application/vnd.jupyter.widget-view+json": {
       "model_id": "1c558421d4a94ef0b2cd408bdaa60d05",
       "version_major": 2,
       "version_minor": 0
      },
      "text/plain": [
       "Button(button_style='success', description='Save', style=ButtonStyle(), tooltip='Click to save data')"
      ]
     },
     "metadata": {},
     "output_type": "display_data"
    },
    {
     "data": {
      "application/vnd.jupyter.widget-view+json": {
       "model_id": "47d32ce9121f42a28e2be754a077ff39",
       "version_major": 2,
       "version_minor": 0
      },
      "text/plain": [
       "Button(button_style='success', description='Load', style=ButtonStyle(), tooltip='Click to load data')"
      ]
     },
     "metadata": {},
     "output_type": "display_data"
    },
    {
     "data": {
      "application/vnd.jupyter.widget-view+json": {
       "model_id": "f44b57cbccb5440f98dea64b328dc175",
       "version_major": 2,
       "version_minor": 0
      },
      "text/plain": [
       "FileUpload(value=(), accept='.json', description='Upload')"
      ]
     },
     "metadata": {},
     "output_type": "display_data"
    },
    {
     "data": {
      "application/vnd.jupyter.widget-view+json": {
       "model_id": "4a3940deb3354e20adc98d22658f9382",
       "version_major": 2,
       "version_minor": 0
      },
      "text/plain": [
       "interactive(children=(FloatSlider(value=1.0, description='Frequency:', max=10.0, min=0.1), FloatSlider(value=1…"
      ]
     },
     "metadata": {},
     "output_type": "display_data"
    }
   ],
   "source": [
    "# interactive to link the widgets to the plotting function\n",
    "\n",
    "interactive_plot = widgets.interactive(plot_graph, frequency=frequency_slider, \n",
    "                                       amplitude=amplitude_slider, graph_1 = select_menu_1, \n",
    "                                       graph_2 = select_menu_2)\n",
    "\n",
    "# Display the widgets and the plot\n",
    "display(file_text_widget)\n",
    "display(save_button)\n",
    "display(load_button)\n",
    "display(uploader_widget)\n",
    "display(interactive_plot)"
   ]
  }
 ],
 "metadata": {
  "kernelspec": {
   "display_name": "venv",
   "language": "python",
   "name": "python3"
  },
  "language_info": {
   "codemirror_mode": {
    "name": "ipython",
    "version": 3
   },
   "file_extension": ".py",
   "mimetype": "text/x-python",
   "name": "python",
   "nbconvert_exporter": "python",
   "pygments_lexer": "ipython3",
   "version": "3.10.12"
  }
 },
 "nbformat": 4,
 "nbformat_minor": 2
}
