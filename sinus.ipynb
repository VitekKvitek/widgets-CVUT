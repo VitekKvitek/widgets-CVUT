{
 "cells": [
  {
   "cell_type": "code",
   "execution_count": 1,
   "metadata": {},
   "outputs": [],
   "source": [
    "import numpy as np\n",
    "import matplotlib.pyplot as plt\n",
    "import ipywidgets as widgets\n",
    "from IPython.display import display"
   ]
  },
  {
   "cell_type": "code",
   "execution_count": 14,
   "metadata": {},
   "outputs": [
    {
     "data": {
      "application/vnd.jupyter.widget-view+json": {
       "model_id": "8ef4973abcde48d0b213a979ede31e79",
       "version_major": 2,
       "version_minor": 0
      },
      "text/plain": [
       "interactive(children=(IntSlider(value=1, description='Frequency:', max=10, min=1), IntSlider(value=1, descript…"
      ]
     },
     "metadata": {},
     "output_type": "display_data"
    }
   ],
   "source": [
    "# Function to plot the sine graph with frequency and amplitude\n",
    "def plot_sine(frequency, amplitude):\n",
    "    x = np.linspace(0, 2 * np.pi, 1000)\n",
    "    y = amplitude * np.sin(frequency * x)\n",
    "    plt.figure(figsize=(10, 6))\n",
    "    plt.plot(x, y)\n",
    "    plt.title(f'Sine Wave with Frequency {frequency} and Amplitude {amplitude}')\n",
    "    plt.xlabel('x')\n",
    "    plt.ylabel(f'{amplitude} * sin({frequency} * x)')\n",
    "    plt.grid(True)\n",
    "    plt.show()\n",
    "\n",
    "# Create IntSlider widgets for frequency and amplitude\n",
    "frequency_slider = widgets.IntSlider(value=1, min=1, max=10, step=1, description='Frequency:')\n",
    "amplitude_slider = widgets.IntSlider(value=1, min=1, max=10, step=1, description='Amplitude:')\n",
    "\n",
    "# Use interactive to link the sliders to the plotting function\n",
    "interactive_plot = widgets.interactive(plot_sine, frequency=frequency_slider, amplitude=amplitude_slider)\n",
    "\n",
    "# Display the sliders and the plot\n",
    "display(interactive_plot)"
   ]
  },
  {
   "cell_type": "code",
   "execution_count": null,
   "metadata": {},
   "outputs": [],
   "source": []
  }
 ],
 "metadata": {
  "kernelspec": {
   "display_name": "venv",
   "language": "python",
   "name": "python3"
  },
  "language_info": {
   "codemirror_mode": {
    "name": "ipython",
    "version": 3
   },
   "file_extension": ".py",
   "mimetype": "text/x-python",
   "name": "python",
   "nbconvert_exporter": "python",
   "pygments_lexer": "ipython3",
   "version": "3.10.12"
  }
 },
 "nbformat": 4,
 "nbformat_minor": 2
}
