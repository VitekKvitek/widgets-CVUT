{
 "cells": [
  {
   "cell_type": "code",
   "execution_count": 37,
   "metadata": {},
   "outputs": [
    {
     "name": "stdout",
     "output_type": "stream",
     "text": [
      "The autoreload extension is already loaded. To reload it, use:\n",
      "  %reload_ext autoreload\n"
     ]
    }
   ],
   "source": [
    "%load_ext autoreload\n",
    "%autoreload 1\n",
    "import numpy as np\n",
    "import matplotlib.pyplot as plt\n",
    "import ipywidgets as widgets\n",
    "from IPython.display import display\n",
    "\n",
    "# Custom scripts\n",
    "# auto import\n",
    "%aimport settings_handler"
   ]
  },
  {
   "cell_type": "code",
   "execution_count": 38,
   "metadata": {},
   "outputs": [],
   "source": [
    "# Create a save button widget\n",
    "\n",
    "save_button = widgets.Button(\n",
    "    description ='Save',\n",
    "    tooltip ='Click to save data',\n",
    "    button_style ='success'  # 'success' (green), 'info' (blue), 'warning' (yellow), 'danger' (red)\n",
    ")\n",
    "save_button.on_click(settings_handler.save)"
   ]
  },
  {
   "cell_type": "code",
   "execution_count": 39,
   "metadata": {},
   "outputs": [],
   "source": [
    "# Cretes a text widget in which is written name of file you want to save current settings\n",
    "file_text_widget = widgets.Text(\n",
    "    value='',\n",
    "    placeholder='Do not include .json',\n",
    "    description='Name preset',\n",
    "    disabled=False   \n",
    ")\n",
    "file_text_widget.observe(settings_handler.set_save_file_name, names='value')"
   ]
  },
  {
   "cell_type": "code",
   "execution_count": 40,
   "metadata": {},
   "outputs": [],
   "source": [
    "# Create a load button widget\n",
    "load_button = widgets.Button(\n",
    "    description ='Load',\n",
    "    tooltip ='Click to load data',\n",
    "    button_style ='success'  # 'success' (green), 'info' (blue), 'warning' (yellow), 'danger' (red)\n",
    ")\n",
    "load_button.on_click(settings_handler.load)"
   ]
  },
  {
   "cell_type": "code",
   "execution_count": 41,
   "metadata": {},
   "outputs": [],
   "source": [
    "# File upload widget\n",
    "uploader_widget = widgets.Dropdown(\n",
    "    options= settings_handler.get_all_files(),\n",
    "    description='Choose preset',\n",
    "    disabled=False,\n",
    ")\n",
    "# Adds uploader widget to settigns handler - on save it updates the options it can chose from\n",
    "settings_handler.add_uploader_widget(uploader_widget)\n",
    "uploader_widget.observe(settings_handler.set_load_file_name, names = 'value') # observes change in value of the widget"
   ]
  },
  {
   "cell_type": "code",
   "execution_count": 42,
   "metadata": {},
   "outputs": [],
   "source": [
    "# Creates IntSlider widgets for frequency and amplitude\n",
    "frequency_slider = widgets.FloatSlider(value=1, min=0.1, max=10, step=0.1, description='Frequency:')\n",
    "settings_handler.add(frequency_slider,'fslider')\n",
    "\n",
    "amplitude_slider = widgets.FloatSlider(value=1, min=0.1, max=10, step=0.1, description='Amplitude:')\n",
    "settings_handler.add(amplitude_slider, 'aslider')"
   ]
  },
  {
   "cell_type": "code",
   "execution_count": 43,
   "metadata": {},
   "outputs": [],
   "source": [
    "method_option = ['sine', 'cosine']\n",
    "\n",
    "# Creates 2 selection menus to choose a fuction from\n",
    "select_menu_1 = widgets.Dropdown(\n",
    "    options = method_option,\n",
    "    value='sine', # default value ?\n",
    "    description='Show:',\n",
    "    disabled=False,\n",
    ")\n",
    "settings_handler.add(select_menu_1, 'select_menu_1')\n",
    "\n",
    "select_menu_2 = widgets.Dropdown(\n",
    "    options = method_option,\n",
    "    value='sine', # default value ?\n",
    "    description='Show:',\n",
    "    disabled=False,\n",
    ")\n",
    "settings_handler.add(select_menu_2, 'select_menu_2')"
   ]
  },
  {
   "cell_type": "code",
   "execution_count": 44,
   "metadata": {},
   "outputs": [],
   "source": [
    "# Function to calculate sine y axis\n",
    "def calculate_sine(x, frequency, amplitude):\n",
    "    y = amplitude * np.sin(frequency * x)\n",
    "    return y    "
   ]
  },
  {
   "cell_type": "code",
   "execution_count": 45,
   "metadata": {},
   "outputs": [],
   "source": [
    "# Function to calculate cosine y axis\n",
    "def calculate_cosine(x, frequency, amplitude):\n",
    "    y = amplitude *  np.cos(frequency * x)\n",
    "    return y    "
   ]
  },
  {
   "cell_type": "code",
   "execution_count": 46,
   "metadata": {},
   "outputs": [],
   "source": [
    "# Dictionary to convert string to function\n",
    "function_dic = {\n",
    "    \"sine\" : calculate_sine,\n",
    "    \"cosine\" : calculate_cosine\n",
    "}"
   ]
  },
  {
   "cell_type": "code",
   "execution_count": 47,
   "metadata": {},
   "outputs": [],
   "source": [
    "# Function that creates and plots the whole graph\n",
    "def plot_graph(frequency, amplitude, graph_1, graph_2):\n",
    "    # sets figure size\n",
    "    plt.figure(figsize=(10, 6))\n",
    "    # sets the x axis\n",
    "    x = np.linspace(0, 2 * np.pi, 1000)    \n",
    "    # Calculates y axis for both functions\n",
    "    y1 = function_dic[graph_1](x, frequency, amplitude)\n",
    "    y2 = function_dic[graph_2](x, frequency, amplitude)\n",
    "    # Plots functions\n",
    "    plt.plot(x, y1, label = graph_1)\n",
    "    plt.plot(x, y2, label = graph_2)\n",
    "\n",
    "    plt.title(f'Frequency {round(frequency, 2)} and Amplitude {round(amplitude, 2)}')\n",
    "    plt.xlabel('x')\n",
    "    plt.grid(True)\n",
    "    plt.legend()\n",
    "    plt.show()\n",
    "    pass"
   ]
  },
  {
   "cell_type": "code",
   "execution_count": 48,
   "metadata": {},
   "outputs": [
    {
     "data": {
      "application/vnd.jupyter.widget-view+json": {
       "model_id": "78696969ebc34db89d0e58f478c5f686",
       "version_major": 2,
       "version_minor": 0
      },
      "text/plain": [
       "Text(value='', description='Name preset', placeholder='Do not include .json')"
      ]
     },
     "metadata": {},
     "output_type": "display_data"
    },
    {
     "data": {
      "application/vnd.jupyter.widget-view+json": {
       "model_id": "e2ecfd0cd4124b0fa4d0fbc75eb1416f",
       "version_major": 2,
       "version_minor": 0
      },
      "text/plain": [
       "Button(button_style='success', description='Save', style=ButtonStyle(), tooltip='Click to save data')"
      ]
     },
     "metadata": {},
     "output_type": "display_data"
    },
    {
     "data": {
      "application/vnd.jupyter.widget-view+json": {
       "model_id": "dbb2b55aff7842fea1cd8ffdee0441f1",
       "version_major": 2,
       "version_minor": 0
      },
      "text/plain": [
       "Button(button_style='success', description='Load', style=ButtonStyle(), tooltip='Click to load data')"
      ]
     },
     "metadata": {},
     "output_type": "display_data"
    },
    {
     "data": {
      "application/vnd.jupyter.widget-view+json": {
       "model_id": "305fbe472c0a40eeb861f09272845a8e",
       "version_major": 2,
       "version_minor": 0
      },
      "text/plain": [
       "Dropdown(description='Choose preset', options=('jiri.json', 'default.json', 'test.json'), value='jiri.json')"
      ]
     },
     "metadata": {},
     "output_type": "display_data"
    },
    {
     "data": {
      "application/vnd.jupyter.widget-view+json": {
       "model_id": "746d4ce25d1a46e48ca9fb9115eed77c",
       "version_major": 2,
       "version_minor": 0
      },
      "text/plain": [
       "interactive(children=(FloatSlider(value=1.0, description='Frequency:', max=10.0, min=0.1), FloatSlider(value=1…"
      ]
     },
     "metadata": {},
     "output_type": "display_data"
    }
   ],
   "source": [
    "# interactive to link the widgets to the plotting function\n",
    "\n",
    "interactive_plot = widgets.interactive(plot_graph, frequency=frequency_slider, \n",
    "                                       amplitude=amplitude_slider, graph_1 = select_menu_1, \n",
    "                                       graph_2 = select_menu_2)\n",
    "\n",
    "# Display the widgets and the plot\n",
    "display(file_text_widget)\n",
    "display(save_button)\n",
    "display(load_button)\n",
    "display(uploader_widget)\n",
    "display(interactive_plot)"
   ]
  }
 ],
 "metadata": {
  "kernelspec": {
   "display_name": "venv",
   "language": "python",
   "name": "python3"
  },
  "language_info": {
   "codemirror_mode": {
    "name": "ipython",
    "version": 3
   },
   "file_extension": ".py",
   "mimetype": "text/x-python",
   "name": "python",
   "nbconvert_exporter": "python",
   "pygments_lexer": "ipython3",
   "version": "3.10.12"
  }
 },
 "nbformat": 4,
 "nbformat_minor": 2
}
