{
 "cells": [
  {
   "cell_type": "code",
   "execution_count": 1,
   "metadata": {},
   "outputs": [],
   "source": [
    "import numpy as np\n",
    "import matplotlib.pyplot as plt\n",
    "import ipywidgets as widgets\n",
    "from IPython.display import display\n",
    "\n",
    "import settings_handler"
   ]
  },
  {
   "cell_type": "markdown",
   "metadata": {},
   "source": [
    "### Save button widget"
   ]
  },
  {
   "cell_type": "code",
   "execution_count": 2,
   "metadata": {},
   "outputs": [],
   "source": [
    "# Create a button widget\n",
    "save_button = widgets.Button(\n",
    "    description='Save',\n",
    "    tooltip='Click to save data',\n",
    "    button_style='success'  # 'success' (green), 'info' (blue), 'warning' (yellow), 'danger' (red)\n",
    ")\n",
    "save_button.on_click(settings_handler.save)"
   ]
  },
  {
   "cell_type": "code",
   "execution_count": 3,
   "metadata": {},
   "outputs": [],
   "source": [
    "uploader_widget = widgets.FileUpload(accept='.json', multiple=False)\n",
    "uploader_widget.observe(settings_handler.load, names = 'value') # observes change in value of the widget"
   ]
  },
  {
   "cell_type": "code",
   "execution_count": 4,
   "metadata": {},
   "outputs": [],
   "source": [
    "# Creates IntSlider widgets for frequency and amplitude\n",
    "frequency_slider = widgets.FloatSlider(value=1, min=0.1, max=10, step=0.1, description='Frequency:')\n",
    "settings_handler.add(frequency_slider,'fslider')\n",
    "\n",
    "amplitude_slider = widgets.FloatSlider(value=1, min=0.1, max=10, step=0.1, description='Amplitude:')\n",
    "settings_handler.add(amplitude_slider, 'aslider')"
   ]
  },
  {
   "cell_type": "code",
   "execution_count": 5,
   "metadata": {},
   "outputs": [],
   "source": [
    "method_option = ['sine', 'cosine']\n",
    "\n",
    "# Creates 2 selection menus to choose a fuction from\n",
    "select_menu_1 = widgets.Dropdown(\n",
    "    options = method_option,\n",
    "    value='sine', # default value ?\n",
    "    description='Show:',\n",
    "    disabled=False,\n",
    ")\n",
    "settings_handler.add(select_menu_1, 'select_menu_1')\n",
    "\n",
    "select_menu_2 = widgets.Dropdown(\n",
    "    options = method_option,\n",
    "    value='sine', # default value ?\n",
    "    description='Show:',\n",
    "    disabled=False,\n",
    ")\n",
    "settings_handler.add(select_menu_2, 'select_menu_2')"
   ]
  },
  {
   "cell_type": "code",
   "execution_count": 6,
   "metadata": {},
   "outputs": [],
   "source": [
    "# Function to calculate sine y axis\n",
    "def calculate_sine(x, frequency, amplitude):\n",
    "    y = amplitude * np.sin(frequency * x)\n",
    "    return y    "
   ]
  },
  {
   "cell_type": "code",
   "execution_count": 7,
   "metadata": {},
   "outputs": [],
   "source": [
    "# Function to calculate cosine y axis\n",
    "def calculate_cosine(x, frequency, amplitude):\n",
    "    y = amplitude *  np.cos(frequency * x)\n",
    "    return y    "
   ]
  },
  {
   "cell_type": "code",
   "execution_count": 8,
   "metadata": {},
   "outputs": [],
   "source": [
    "# Dictionary to convert string to function\n",
    "function_dic = {\n",
    "    \"sine\" : calculate_sine,\n",
    "    \"cosine\" : calculate_cosine\n",
    "}"
   ]
  },
  {
   "cell_type": "code",
   "execution_count": 9,
   "metadata": {},
   "outputs": [],
   "source": [
    "# Function that creates and plots the whole graph\n",
    "def plot_graph(frequency, amplitude, graph_1, graph_2):\n",
    "    # sets figure size\n",
    "    plt.figure(figsize=(10, 6))\n",
    "    # sets the x axis\n",
    "    x = np.linspace(0, 2 * np.pi, 1000)    \n",
    "    # Calculates y axis for both functions\n",
    "    y1 = function_dic[graph_1](x, frequency, amplitude)\n",
    "    y2 = function_dic[graph_2](x, frequency, amplitude)\n",
    "    # Plots functions\n",
    "    plt.plot(x, y1, label = graph_1)\n",
    "    plt.plot(x, y2, label = graph_2)\n",
    "\n",
    "    plt.title(f'Frequency {round(frequency, 2)} and Amplitude {round(amplitude, 2)}')\n",
    "    plt.xlabel('x')\n",
    "    plt.grid(True)\n",
    "    plt.legend()\n",
    "    plt.show()\n",
    "    pass"
   ]
  },
  {
   "cell_type": "code",
   "execution_count": 10,
   "metadata": {},
   "outputs": [
    {
     "data": {
      "application/vnd.jupyter.widget-view+json": {
       "model_id": "a4a2192480cb42b9963f1715a88ec4e7",
       "version_major": 2,
       "version_minor": 0
      },
      "text/plain": [
       "Button(button_style='success', description='Save', style=ButtonStyle(), tooltip='Click to save data')"
      ]
     },
     "metadata": {},
     "output_type": "display_data"
    },
    {
     "ename": "NameError",
     "evalue": "name 'upload_widget' is not defined",
     "output_type": "error",
     "traceback": [
      "\u001b[0;31m---------------------------------------------------------------------------\u001b[0m",
      "\u001b[0;31mNameError\u001b[0m                                 Traceback (most recent call last)",
      "Cell \u001b[0;32mIn[10], line 9\u001b[0m\n\u001b[1;32m      7\u001b[0m \u001b[38;5;66;03m# Display the widgets and the plot\u001b[39;00m\n\u001b[1;32m      8\u001b[0m display(save_button)\n\u001b[0;32m----> 9\u001b[0m display(\u001b[43mupload_widget\u001b[49m)\n\u001b[1;32m     10\u001b[0m display(interactive_plot)\n",
      "\u001b[0;31mNameError\u001b[0m: name 'upload_widget' is not defined"
     ]
    }
   ],
   "source": [
    "# interactive to link the widgets to the plotting function\n",
    "\n",
    "interactive_plot = widgets.interactive(plot_graph, frequency=frequency_slider, \n",
    "                                       amplitude=amplitude_slider, graph_1 = select_menu_1, \n",
    "                                       graph_2 = select_menu_2)\n",
    "\n",
    "# Display the widgets and the plot\n",
    "display(save_button)\n",
    "display(uploader_widget)\n",
    "display(interactive_plot)"
   ]
  }
 ],
 "metadata": {
  "kernelspec": {
   "display_name": "venv",
   "language": "python",
   "name": "python3"
  },
  "language_info": {
   "codemirror_mode": {
    "name": "ipython",
    "version": 3
   },
   "file_extension": ".py",
   "mimetype": "text/x-python",
   "name": "python",
   "nbconvert_exporter": "python",
   "pygments_lexer": "ipython3",
   "version": "3.10.12"
  }
 },
 "nbformat": 4,
 "nbformat_minor": 2
}
