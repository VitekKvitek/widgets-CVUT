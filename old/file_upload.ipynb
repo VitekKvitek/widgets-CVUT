{
 "cells": [
  {
   "cell_type": "code",
   "execution_count": 25,
   "metadata": {},
   "outputs": [],
   "source": [
    "import ipywidgets as widgets\n",
    "from IPython.display import display\n",
    "import json"
   ]
  },
  {
   "cell_type": "code",
   "execution_count": 26,
   "metadata": {},
   "outputs": [
    {
     "data": {
      "application/vnd.jupyter.widget-view+json": {
       "model_id": "6fd310a800e34fc2b295ad7621cf62ff",
       "version_major": 2,
       "version_minor": 0
      },
      "text/plain": [
       "FileUpload(value=(), accept='.json', description='Upload')"
      ]
     },
     "metadata": {},
     "output_type": "display_data"
    },
    {
     "name": "stdout",
     "output_type": "stream",
     "text": [
      "{'fslider': 5.3999999999999995, 'aslider': 1.0000000000000002, 'select_menu_1': 'sine', 'select_menu_2': 'cosine'}\n",
      "<memory at 0x73b86f8c41c0>\n",
      "{'name': 'settings.json', 'type': 'application/json', 'size': 114, 'content': <memory at 0x73b86f8c41c0>, 'last_modified': datetime.datetime(2024, 7, 24, 9, 8, 38, 255000, tzinfo=datetime.timezone.utc)}\n"
     ]
    }
   ],
   "source": [
    "upload_widget = widgets.FileUpload(accept='.json', multiple=False)\n",
    "display(upload_widget)\n",
    "\n",
    "def on_upload_change(change):\n",
    "    # Get the uploaded file\n",
    "    uploaded_file = change['new'][0]\n",
    "    # Get the file content in byte format\n",
    "    byte_data = uploaded_file['content'].tobytes()\n",
    "    # Converts it to json\n",
    "    json_data = json.loads(byte_data.decode('utf-8'))\n",
    "    print(json_data)\n",
    "upload_widget.observe(on_upload_change, names = 'value') # observes change in value of the widget"
   ]
  },
  {
   "cell_type": "code",
   "execution_count": null,
   "metadata": {},
   "outputs": [],
   "source": []
  }
 ],
 "metadata": {
  "kernelspec": {
   "display_name": "venv",
   "language": "python",
   "name": "python3"
  },
  "language_info": {
   "codemirror_mode": {
    "name": "ipython",
    "version": 3
   },
   "file_extension": ".py",
   "mimetype": "text/x-python",
   "name": "python",
   "nbconvert_exporter": "python",
   "pygments_lexer": "ipython3",
   "version": "3.10.12"
  }
 },
 "nbformat": 4,
 "nbformat_minor": 2
}
