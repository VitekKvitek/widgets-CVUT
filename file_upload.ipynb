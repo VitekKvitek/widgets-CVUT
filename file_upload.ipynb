{
 "cells": [
  {
   "cell_type": "code",
   "execution_count": 1,
   "metadata": {},
   "outputs": [],
   "source": [
    "import ipywidgets as widgets\n",
    "from IPython.display import display\n",
    "import json"
   ]
  },
  {
   "cell_type": "code",
   "execution_count": 2,
   "metadata": {},
   "outputs": [
    {
     "data": {
      "application/vnd.jupyter.widget-view+json": {
       "model_id": "ba1725082ec04d808ac940965b54e377",
       "version_major": 2,
       "version_minor": 0
      },
      "text/plain": [
       "FileUpload(value=(), accept='.json', description='Upload')"
      ]
     },
     "metadata": {},
     "output_type": "display_data"
    },
    {
     "name": "stdout",
     "output_type": "stream",
     "text": [
      "{'fslider': 4.2, 'aslider': 4.2, 'select_menu_1': 'cosine', 'select_menu_2': 'cosine'}\n"
     ]
    }
   ],
   "source": [
    "upload_widget = widgets.FileUpload(accept='.json', multiple=False)\n",
    "display(upload_widget)\n",
    "\n",
    "def on_upload_change(change):\n",
    "    \n",
    "    # Get the uploaded file\n",
    "    uploaded_file = upload_widget.value[0]\n",
    "    # Get the file content in byte format\n",
    "    byte_data = uploaded_file['content'].tobytes()\n",
    "    # Converts it to json\n",
    "    json_data = json.loads(byte_data.decode('utf-8'))\n",
    "    print(json_data)\n",
    "\n",
    "\n",
    "upload_widget.observe(on_upload_change, names = 'value') # observes change in value of the widget"
   ]
  },
  {
   "cell_type": "code",
   "execution_count": null,
   "metadata": {},
   "outputs": [],
   "source": []
  }
 ],
 "metadata": {
  "kernelspec": {
   "display_name": "venv",
   "language": "python",
   "name": "python3"
  },
  "language_info": {
   "codemirror_mode": {
    "name": "ipython",
    "version": 3
   },
   "file_extension": ".py",
   "mimetype": "text/x-python",
   "name": "python",
   "nbconvert_exporter": "python",
   "pygments_lexer": "ipython3",
   "version": "3.10.12"
  }
 },
 "nbformat": 4,
 "nbformat_minor": 2
}
