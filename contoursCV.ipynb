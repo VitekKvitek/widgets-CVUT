{
 "cells": [
  {
   "cell_type": "code",
   "execution_count": 7,
   "metadata": {},
   "outputs": [],
   "source": [
    "import cv2 as cv\n",
    "import numpy as np\n",
    "import matplotlib.pyplot as plt\n",
    "import ipywidgets as widgets\n",
    "from IPython.display import display\n",
    "from IPython.display import FileLink"
   ]
  },
  {
   "cell_type": "code",
   "execution_count": 8,
   "metadata": {},
   "outputs": [],
   "source": [
    "#Visual setting\n",
    "W = 400\n",
    "imgPath = 'imageSource/white.jpg'\n",
    "thickness = 2\n",
    "line_type = 4   #4,8,16\n",
    "color = (255, 127, 0) #BGR values"
   ]
  },
  {
   "cell_type": "code",
   "execution_count": 9,
   "metadata": {},
   "outputs": [],
   "source": [
    "image = cv.imread(imgPath)  # Image file\n",
    "assert image is not None, \"file could not be read, check with os.path.exists()\"\n",
    "image = cv.resize(image, (W, W))  # Resize to W x W\n",
    "\n",
    "test_image = np.zeros((W, W, 3), dtype=np.uint8)"
   ]
  },
  {
   "cell_type": "markdown",
   "metadata": {},
   "source": [
    "def draw_ellipse(img, major_axis_length, angle):\n",
    "    img[:] = image\n",
    "    \n",
    "\n",
    "    cv.ellipse(img,\n",
    "               (W // 2, W // 2),\n",
    "               (major_axis_length, W // 16),\n",
    "               angle,  \n",
    "               0,\n",
    "               360,\n",
    "               color,\n",
    "               thickness,\n",
    "               line_type)\n",
    "\n"
   ]
  },
  {
   "cell_type": "code",
   "execution_count": 10,
   "metadata": {},
   "outputs": [
    {
     "name": "stdout",
     "output_type": "stream",
     "text": [
      "((), None)\n"
     ]
    }
   ],
   "source": [
    "#Find countours of image\n",
    "imgray = cv.cvtColor(test_image, cv.COLOR_BGR2GRAY)\n",
    "ret, thresh = cv.threshold(imgray, 127, 255, 0)\n",
    "contours, hierarchy = cv.findContours(thresh, cv.RETR_TREE, cv.CHAIN_APPROX_SIMPLE)\n",
    "print(cv.findContours(thresh, cv.RETR_TREE, cv.CHAIN_APPROX_SIMPLE))"
   ]
  },
  {
   "cell_type": "code",
   "execution_count": 11,
   "metadata": {},
   "outputs": [],
   "source": [
    "def draw_contoure():\n",
    "    cv.drawContours(test_image, contours, -1, (0,255,0), 3)"
   ]
  },
  {
   "cell_type": "code",
   "execution_count": 12,
   "metadata": {},
   "outputs": [],
   "source": [
    "def display_image(image, title):\n",
    "    image_rgb = cv.cvtColor(image, cv.COLOR_BGR2RGB)\n",
    "    plt.imshow(image_rgb)\n",
    "    plt.title(title)\n",
    "    plt.axis('off')\n",
    "    plt.show()"
   ]
  },
  {
   "cell_type": "code",
   "execution_count": 13,
   "metadata": {},
   "outputs": [],
   "source": [
    "# Function to update the image when the slider value changes\n",
    "def update_image(major_axis_length, angle):\n",
    "    draw_contoure()\n",
    "    #draw_ellipse(test_image, major_axis_length, angle)\n",
    "    display_image(test_image, f\"Velikost hlavní osy elypsy {major_axis_length} s úhlem {angle}\")"
   ]
  },
  {
   "cell_type": "code",
   "execution_count": 14,
   "metadata": {},
   "outputs": [],
   "source": [
    "def save_image(b):\n",
    "    filename = 'output_image.png'\n",
    "    cv.imwrite(filename, test_image)\n",
    "    display(FileLink(filename))"
   ]
  },
  {
   "cell_type": "code",
   "execution_count": 15,
   "metadata": {},
   "outputs": [],
   "source": [
    "slider = widgets.IntSlider(value=W // 4, min=10, max=W // 2, step=1, description='Hlavní osa')\n",
    "angle_slider = widgets.IntSlider(value=45, min=0, max=180, step=1, description='Úhel')\n",
    "\n",
    "# Combine the sliders into a single interactive widget\n",
    "interactive_plot = widgets.interactive(update_image, major_axis_length=slider, angle=angle_slider)\n"
   ]
  },
  {
   "cell_type": "code",
   "execution_count": 16,
   "metadata": {},
   "outputs": [],
   "source": [
    "# Create a save button\n",
    "save_button = widgets.Button(description=\"Save Image\")\n",
    "save_button.on_click(save_image)"
   ]
  },
  {
   "cell_type": "code",
   "execution_count": 17,
   "metadata": {},
   "outputs": [
    {
     "data": {
      "application/vnd.jupyter.widget-view+json": {
       "model_id": "c5dc09b61f5345c8acf76ece9bc2a564",
       "version_major": 2,
       "version_minor": 0
      },
      "text/plain": [
       "interactive(children=(IntSlider(value=100, description='Hlavní osa', max=200, min=10), IntSlider(value=45, des…"
      ]
     },
     "metadata": {},
     "output_type": "display_data"
    },
    {
     "data": {
      "application/vnd.jupyter.widget-view+json": {
       "model_id": "1a5a3c7b11184765b21113330628655e",
       "version_major": 2,
       "version_minor": 0
      },
      "text/plain": [
       "Button(description='Save Image', style=ButtonStyle())"
      ]
     },
     "metadata": {},
     "output_type": "display_data"
    }
   ],
   "source": [
    "# Display the sliders and the initial plot\n",
    "display(interactive_plot, save_button)\n",
    "\n",
    "# Initial display\n",
    "#update_image(W // 4, 45)"
   ]
  }
 ],
 "metadata": {
  "kernelspec": {
   "display_name": "venv",
   "language": "python",
   "name": "python3"
  },
  "language_info": {
   "codemirror_mode": {
    "name": "ipython",
    "version": 3
   },
   "file_extension": ".py",
   "mimetype": "text/x-python",
   "name": "python",
   "nbconvert_exporter": "python",
   "pygments_lexer": "ipython3",
   "version": "3.12.3"
  }
 },
 "nbformat": 4,
 "nbformat_minor": 2
}
