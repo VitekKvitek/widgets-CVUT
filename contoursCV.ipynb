{
 "cells": [
  {
   "cell_type": "code",
   "execution_count": 107,
   "metadata": {},
   "outputs": [],
   "source": [
    "import cv2 as cv\n",
    "import numpy as np\n",
    "import matplotlib.pyplot as plt\n",
    "import ipywidgets as widgets\n",
    "from IPython.display import display\n",
    "from IPython.display import FileLink"
   ]
  },
  {
   "cell_type": "code",
   "execution_count": 108,
   "metadata": {},
   "outputs": [],
   "source": [
    "#Visual setting\n",
    "W = 400\n",
    "imgPath = 'imageSource/chad.jpg'\n",
    "useImg = False\n",
    "thickness = 2\n",
    "line_type = 4   #4,8,16\n",
    "color = (255, 127, 0) #BGR values"
   ]
  },
  {
   "cell_type": "code",
   "execution_count": 109,
   "metadata": {},
   "outputs": [
    {
     "data": {
      "image/png": "[encoded data removed]",
      "text/plain": [
       "<Figure size 1000x1000 with 1 Axes>"
      ]
     },
     "metadata": {},
     "output_type": "display_data"
    }
   ],
   "source": [
    "if(useImg):\n",
    "    image = cv.imread(imgPath)  # Image file\n",
    "    assert image is not None, \"file could not be read, check with os.path.exists()\"\n",
    "else: \n",
    "    image = np.zeros([W, W, 3], dtype = np.uint8) \n",
    "    image[20:200, 40:300] = 255\n",
    "\n",
    "image = cv.resize(image, (W, W))  # Resize to W x W\n",
    "#test_image = np.zeros((W, W, 3), dtype=np.uint8)\n",
    "\n",
    "\n",
    "plt.figure(figsize=(10, 10))\n",
    "plt.imshow(image)\n",
    "plt.title('Image with Contours')\n",
    "plt.axis('off')  # Hide axes\n",
    "plt.show()"
   ]
  },
  {
   "cell_type": "code",
   "execution_count": 110,
   "metadata": {},
   "outputs": [],
   "source": [
    "def draw_ellipse(img, major_axis_length, angle):\n",
    "    img[:] = image_with_contours_rgb\n",
    "    \n",
    "\n",
    "    cv.ellipse(img,\n",
    "               (W // 2, W // 2),\n",
    "               (major_axis_length, W // 16),\n",
    "               angle,  \n",
    "               0,\n",
    "               360,\n",
    "               color,\n",
    "               thickness,\n",
    "               line_type)\n",
    "\n"
   ]
  },
  {
   "cell_type": "code",
   "execution_count": 111,
   "metadata": {},
   "outputs": [],
   "source": [
    "# Convert image to grayscale\n",
    "imgray = cv.cvtColor(image, cv.COLOR_BGR2GRAY)\n",
    "\n",
    "# Apply thresholding\n",
    "ret, thresh = cv.threshold(imgray, 127, 255, 0)\n",
    "#thresh = ( imgray > 0).astype(np.uint8)\n",
    "\n",
    "# Check OpenCV version and handle findContours output accordingly\n",
    "contours, hierarchy = cv.findContours(thresh, cv.RETR_TREE, cv.CHAIN_APPROX_SIMPLE)"
   ]
  },
  {
   "cell_type": "code",
   "execution_count": 112,
   "metadata": {},
   "outputs": [
    {
     "data": {
      "text/plain": [
       "array([[[0, 0, 0],\n",
       "        [0, 0, 0],\n",
       "        [0, 0, 0],\n",
       "        ...,\n",
       "        [0, 0, 0],\n",
       "        [0, 0, 0],\n",
       "        [0, 0, 0]],\n",
       "\n",
       "       [[0, 0, 0],\n",
       "        [0, 0, 0],\n",
       "        [0, 0, 0],\n",
       "        ...,\n",
       "        [0, 0, 0],\n",
       "        [0, 0, 0],\n",
       "        [0, 0, 0]],\n",
       "\n",
       "       [[0, 0, 0],\n",
       "        [0, 0, 0],\n",
       "        [0, 0, 0],\n",
       "        ...,\n",
       "        [0, 0, 0],\n",
       "        [0, 0, 0],\n",
       "        [0, 0, 0]],\n",
       "\n",
       "       ...,\n",
       "\n",
       "       [[0, 0, 0],\n",
       "        [0, 0, 0],\n",
       "        [0, 0, 0],\n",
       "        ...,\n",
       "        [0, 0, 0],\n",
       "        [0, 0, 0],\n",
       "        [0, 0, 0]],\n",
       "\n",
       "       [[0, 0, 0],\n",
       "        [0, 0, 0],\n",
       "        [0, 0, 0],\n",
       "        ...,\n",
       "        [0, 0, 0],\n",
       "        [0, 0, 0],\n",
       "        [0, 0, 0]],\n",
       "\n",
       "       [[0, 0, 0],\n",
       "        [0, 0, 0],\n",
       "        [0, 0, 0],\n",
       "        ...,\n",
       "        [0, 0, 0],\n",
       "        [0, 0, 0],\n",
       "        [0, 0, 0]]], dtype=uint8)"
      ]
     },
     "execution_count": 112,
     "metadata": {},
     "output_type": "execute_result"
    }
   ],
   "source": [
    "\n",
    "# Draw the contours on the original image (or a copy of it)\n",
    "image_with_contours = image.copy()\n",
    "cv.drawContours(image_with_contours, contours, -1, (0, 255, 0), 3)"
   ]
  },
  {
   "cell_type": "code",
   "execution_count": 113,
   "metadata": {},
   "outputs": [
    {
     "data": {
      "image/png": "[encoded data removed]",
      "text/plain": [
       "<Figure size 640x480 with 1 Axes>"
      ]
     },
     "metadata": {},
     "output_type": "display_data"
    }
   ],
   "source": [
    "\n",
    "image_with_contours_rgb = cv.cvtColor(image_with_contours, cv.COLOR_BGR2RGB)\n",
    "\n",
    "plt.imshow(image_with_contours_rgb)\n",
    "plt.title(\"Image preview\")\n",
    "plt.axis('off')\n",
    "plt.show()"
   ]
  },
  {
   "cell_type": "code",
   "execution_count": 114,
   "metadata": {},
   "outputs": [],
   "source": [
    "# Function to update the image when the slider value changes\n",
    "def update_image(major_axis_length, angle):\n",
    "    \n",
    "    draw_ellipse(image_with_contours_rgb, major_axis_length, angle)\n",
    "    display_image(image_with_contours_rgb, f\"Velikost hlavní osy elypsy {major_axis_length} s úhlem {angle}\")"
   ]
  },
  {
   "cell_type": "code",
   "execution_count": 115,
   "metadata": {},
   "outputs": [],
   "source": [
    "def save_image(b):\n",
    "    filename = 'output_image.png'\n",
    "    cv.imwrite(filename, image_with_contours_rgb)\n",
    "    display(FileLink(filename))\n",
    "\n",
    "# Create a save button\n",
    "save_button = widgets.Button(description=\"Save Image\")\n",
    "save_button.on_click(save_image)"
   ]
  },
  {
   "cell_type": "code",
   "execution_count": 116,
   "metadata": {},
   "outputs": [],
   "source": [
    "slider = widgets.IntSlider(value=W // 4, min=10, max=W // 2, step=1, description='Hlavní osa')\n",
    "angle_slider = widgets.IntSlider(value=45, min=0, max=180, step=1, description='Úhel')\n",
    "\n",
    "# Combine the sliders into a single interactive widget\n",
    "interactive_plot = widgets.interactive(update_image, major_axis_length=slider, angle=angle_slider)\n"
   ]
  },
  {
   "cell_type": "code",
   "execution_count": 117,
   "metadata": {},
   "outputs": [
    {
     "data": {
      "application/vnd.jupyter.widget-view+json": {
       "model_id": "bc0bbb1d3c094412b2394ec93337da3a",
       "version_major": 2,
       "version_minor": 0
      },
      "text/plain": [
       "interactive(children=(IntSlider(value=100, description='Hlavní osa', max=200, min=10), IntSlider(value=45, des…"
      ]
     },
     "metadata": {},
     "output_type": "display_data"
    },
    {
     "data": {
      "application/vnd.jupyter.widget-view+json": {
       "model_id": "6b9f0b7f66df406abab19779676ba504",
       "version_major": 2,
       "version_minor": 0
      },
      "text/plain": [
       "Button(description='Save Image', style=ButtonStyle())"
      ]
     },
     "metadata": {},
     "output_type": "display_data"
    }
   ],
   "source": [
    "# Display the sliders and the initial plot\n",
    "display(interactive_plot, save_button)\n",
    "\n",
    "# Initial display\n",
    "#update_image(W // 4, 45)"
   ]
  }
 ],
 "metadata": {
  "kernelspec": {
   "display_name": "venv",
   "language": "python",
   "name": "python3"
  },
  "language_info": {
   "codemirror_mode": {
    "name": "ipython",
    "version": 3
   },
   "file_extension": ".py",
   "mimetype": "text/x-python",
   "name": "python",
   "nbconvert_exporter": "python",
   "pygments_lexer": "ipython3",
   "version": "3.12.3"
  }
 },
 "nbformat": 4,
 "nbformat_minor": 2
}
