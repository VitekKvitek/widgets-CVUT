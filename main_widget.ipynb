{
 "cells": [
  {
   "cell_type": "code",
   "execution_count": 11,
   "metadata": {},
   "outputs": [
    {
     "name": "stdout",
     "output_type": "stream",
     "text": [
      "The autoreload extension is already loaded. To reload it, use:\n",
      "  %reload_ext autoreload\n"
     ]
    }
   ],
   "source": [
    "%load_ext autoreload\n",
    "%autoreload 1\n",
    "\n",
    "%aimport sheet\n",
    "%aimport results_comparer\n",
    "%aimport plot\n",
    "%aimport settings_handler"
   ]
  },
  {
   "cell_type": "code",
   "execution_count": 12,
   "metadata": {},
   "outputs": [
    {
     "data": {
      "application/vnd.jupyter.widget-view+json": {
       "model_id": "03df33d1519d40c7a7cfdada4a7e3478",
       "version_major": 2,
       "version_minor": 0
      },
      "text/plain": [
       "Output()"
      ]
     },
     "metadata": {},
     "output_type": "display_data"
    },
    {
     "data": {
      "application/vnd.jupyter.widget-view+json": {
       "model_id": "1432afa18dde4c06a12759d7bf7cbef3",
       "version_major": 2,
       "version_minor": 0
      },
      "text/plain": [
       "FloatSlider(value=0.95, continuous_update=False, description='Obstacle Threshold First row', layout=Layout(wid…"
      ]
     },
     "metadata": {},
     "output_type": "display_data"
    },
    {
     "data": {
      "application/vnd.jupyter.widget-view+json": {
       "model_id": "a5c2d3ff9eaa49358edca2a5a2a9bf60",
       "version_major": 2,
       "version_minor": 0
      },
      "text/plain": [
       "FloatSlider(value=0.9556699999999999, continuous_update=False, description='Obstacle Threshold Second row', la…"
      ]
     },
     "metadata": {},
     "output_type": "display_data"
    },
    {
     "data": {
      "application/vnd.jupyter.widget-view+json": {
       "model_id": "dccc1de8ab6943819938c9aaa66ad9f8",
       "version_major": 2,
       "version_minor": 0
      },
      "text/plain": [
       "Checkbox(value=False, description='Sync sliders', indent=False)"
      ]
     },
     "metadata": {},
     "output_type": "display_data"
    },
    {
     "data": {
      "application/vnd.jupyter.widget-view+json": {
       "model_id": "77c3dbc310a344a2a4df1ccfd0814171",
       "version_major": 2,
       "version_minor": 0
      },
      "text/plain": [
       "Checkbox(value=True, description='Sync sliders', indent=False)"
      ]
     },
     "metadata": {},
     "output_type": "display_data"
    },
    {
     "data": {
      "application/vnd.jupyter.widget-view+json": {
       "model_id": "edf78157bcab4b2bbeafbc6675d9311e",
       "version_major": 2,
       "version_minor": 0
      },
      "text/plain": [
       "Button(description='Save Image', style=ButtonStyle())"
      ]
     },
     "metadata": {},
     "output_type": "display_data"
    },
    {
     "ename": "AttributeError",
     "evalue": "'types.SimpleNamespace' object has no attribute 'ignore'",
     "output_type": "error",
     "traceback": [
      "\u001b[0;31m---------------------------------------------------------------------------\u001b[0m",
      "\u001b[0;31mAttributeError\u001b[0m                            Traceback (most recent call last)",
      "Cell \u001b[0;32mIn[12], line 2\u001b[0m\n\u001b[1;32m      1\u001b[0m plot\u001b[38;5;241m.\u001b[39mdisplay_image_settings()\n\u001b[0;32m----> 2\u001b[0m \u001b[43mplot\u001b[49m\u001b[38;5;241;43m.\u001b[39;49m\u001b[43mshow_final\u001b[49m\u001b[43m(\u001b[49m\u001b[38;5;241;43m3\u001b[39;49m\u001b[43m)\u001b[49m\n",
      "File \u001b[0;32m~/widgets-CVUT/plot.py:370\u001b[0m, in \u001b[0;36mshow_final\u001b[0;34m(row_index, fig_size)\u001b[0m\n\u001b[1;32m    369\u001b[0m \u001b[38;5;28;01mdef\u001b[39;00m \u001b[38;5;21mshow_final\u001b[39m(row_index, fig_size\u001b[38;5;241m=\u001b[39m(\u001b[38;5;241m24\u001b[39m, \u001b[38;5;241m12\u001b[39m)):\n\u001b[0;32m--> 370\u001b[0m     \u001b[43msave_rows\u001b[49m\u001b[43m(\u001b[49m\u001b[43mrow_index\u001b[49m\u001b[43m)\u001b[49m\n\u001b[1;32m    372\u001b[0m     filename \u001b[38;5;241m=\u001b[39m os\u001b[38;5;241m.\u001b[39mpath\u001b[38;5;241m.\u001b[39msplitext(iv\u001b[38;5;241m.\u001b[39mselected_file)[\u001b[38;5;241m0\u001b[39m]\n\u001b[1;32m    373\u001b[0m     final_image \u001b[38;5;241m=\u001b[39m combine_rows()\n",
      "File \u001b[0;32m~/widgets-CVUT/plot.py:359\u001b[0m, in \u001b[0;36msave_rows\u001b[0;34m(row_index)\u001b[0m\n\u001b[1;32m    356\u001b[0m iv\u001b[38;5;241m.\u001b[39mground_truth \u001b[38;5;241m=\u001b[39m load_gt(selected_file, selected_folder, iv\u001b[38;5;241m.\u001b[39mselected_algo[\u001b[38;5;241m1\u001b[39m], \u001b[38;5;28;01mTrue\u001b[39;00m)\n\u001b[1;32m    357\u001b[0m iv\u001b[38;5;241m.\u001b[39moriginal_image \u001b[38;5;241m=\u001b[39m load_image(selected_file, selected_folder)\n\u001b[0;32m--> 359\u001b[0m iv\u001b[38;5;241m.\u001b[39mrow[\u001b[38;5;241m0\u001b[39m] \u001b[38;5;241m=\u001b[39m \u001b[43mmake_row\u001b[49m\u001b[43m(\u001b[49m\u001b[43miv\u001b[49m\u001b[38;5;241;43m.\u001b[39;49m\u001b[43moriginal_image\u001b[49m\u001b[43m,\u001b[49m\u001b[43m \u001b[49m\u001b[43miv\u001b[49m\u001b[38;5;241;43m.\u001b[39;49m\u001b[43mpredict\u001b[49m\u001b[43m[\u001b[49m\u001b[38;5;241;43m0\u001b[39;49m\u001b[43m]\u001b[49m\u001b[43m,\u001b[49m\u001b[43m \u001b[49m\u001b[38;5;28;43;01mFalse\u001b[39;49;00m\u001b[43m,\u001b[49m\u001b[43m \u001b[49m\u001b[43miv\u001b[49m\u001b[38;5;241;43m.\u001b[39;49m\u001b[43mthreshold\u001b[49m\u001b[43m[\u001b[49m\u001b[38;5;241;43m0\u001b[39;49m\u001b[43m]\u001b[49m\u001b[43m,\u001b[49m\u001b[43m \u001b[49m\u001b[38;5;241;43m0\u001b[39;49m\u001b[43m,\u001b[49m\u001b[43m \u001b[49m\u001b[43miv\u001b[49m\u001b[38;5;241;43m.\u001b[39;49m\u001b[43mground_truth\u001b[49m\u001b[43m)\u001b[49m\n\u001b[1;32m    360\u001b[0m iv\u001b[38;5;241m.\u001b[39mrow[\u001b[38;5;241m1\u001b[39m] \u001b[38;5;241m=\u001b[39m make_row(iv\u001b[38;5;241m.\u001b[39moriginal_image, iv\u001b[38;5;241m.\u001b[39mpredict[\u001b[38;5;241m1\u001b[39m], \u001b[38;5;28;01mFalse\u001b[39;00m, iv\u001b[38;5;241m.\u001b[39mthreshold[\u001b[38;5;241m1\u001b[39m], \u001b[38;5;241m1\u001b[39m, iv\u001b[38;5;241m.\u001b[39mground_truth)\n\u001b[1;32m    361\u001b[0m iv\u001b[38;5;241m.\u001b[39mrow[\u001b[38;5;241m2\u001b[39m] \u001b[38;5;241m=\u001b[39m make_row(iv\u001b[38;5;241m.\u001b[39moriginal_image, iv\u001b[38;5;241m.\u001b[39mground_truth, \u001b[38;5;28;01mTrue\u001b[39;00m, iv\u001b[38;5;241m.\u001b[39mthreshold[\u001b[38;5;241m0\u001b[39m])\n",
      "File \u001b[0;32m~/widgets-CVUT/plot.py:276\u001b[0m, in \u001b[0;36mmake_row\u001b[0;34m(original_image, mask, use_dataset, thresh, row_index, def_gt)\u001b[0m\n\u001b[1;32m    264\u001b[0m     row \u001b[38;5;241m=\u001b[39m np\u001b[38;5;241m.\u001b[39mconcatenate((\n\u001b[1;32m    265\u001b[0m         original_image, \n\u001b[1;32m    266\u001b[0m         white_border, \n\u001b[1;32m    267\u001b[0m         contour_w_overlay, \n\u001b[1;32m    268\u001b[0m         white_border,\n\u001b[1;32m    269\u001b[0m         make_legend(target_h, target_w)), axis\u001b[38;5;241m=\u001b[39m\u001b[38;5;241m1\u001b[39m)\n\u001b[1;32m    270\u001b[0m \u001b[38;5;28;01melse\u001b[39;00m:\n\u001b[1;32m    271\u001b[0m     row \u001b[38;5;241m=\u001b[39m np\u001b[38;5;241m.\u001b[39mconcatenate((\n\u001b[1;32m    272\u001b[0m         normalize_score(row_index),\n\u001b[1;32m    273\u001b[0m         white_border,\n\u001b[1;32m    274\u001b[0m         opacity_overlay,\n\u001b[1;32m    275\u001b[0m         white_border,\n\u001b[0;32m--> 276\u001b[0m         \u001b[43mdraw_differance\u001b[49m\u001b[43m(\u001b[49m\u001b[43moriginal_image\u001b[49m\u001b[43m,\u001b[49m\u001b[43m \u001b[49m\u001b[43mmask\u001b[49m\u001b[43m,\u001b[49m\u001b[43m \u001b[49m\u001b[43mdef_gt\u001b[49m\u001b[43m,\u001b[49m\u001b[43m \u001b[49m\u001b[43mthresh\u001b[49m\u001b[43m)\u001b[49m), axis\u001b[38;5;241m=\u001b[39m\u001b[38;5;241m1\u001b[39m)\n\u001b[1;32m    277\u001b[0m \u001b[38;5;28;01mreturn\u001b[39;00m row\n",
      "File \u001b[0;32m~/widgets-CVUT/plot.py:107\u001b[0m, in \u001b[0;36mdraw_differance\u001b[0;34m(original_image, gt, def_gt, thresh)\u001b[0m\n\u001b[1;32m    104\u001b[0m mask1 \u001b[38;5;241m=\u001b[39m obstacle_mask\n\u001b[1;32m    105\u001b[0m mask2 \u001b[38;5;241m=\u001b[39m np\u001b[38;5;241m.\u001b[39many(def_gt \u001b[38;5;241m==\u001b[39m \u001b[38;5;241m0\u001b[39m, axis\u001b[38;5;241m=\u001b[39m\u001b[38;5;241m-\u001b[39m\u001b[38;5;241m1\u001b[39m)\n\u001b[0;32m--> 107\u001b[0m \u001b[38;5;28;01mif\u001b[39;00m \u001b[43miv\u001b[49m\u001b[38;5;241;43m.\u001b[39;49m\u001b[43mignore\u001b[49m:\n\u001b[1;32m    108\u001b[0m     \u001b[38;5;66;03m# Set mask1 to False where def_gt has value 255\u001b[39;00m\n\u001b[1;32m    109\u001b[0m     mask1[np\u001b[38;5;241m.\u001b[39many(def_gt \u001b[38;5;241m==\u001b[39m \u001b[38;5;241m255\u001b[39m, axis\u001b[38;5;241m=\u001b[39m\u001b[38;5;241m-\u001b[39m\u001b[38;5;241m1\u001b[39m)] \u001b[38;5;241m=\u001b[39m \u001b[38;5;28;01mFalse\u001b[39;00m\n\u001b[1;32m    111\u001b[0m combined_image \u001b[38;5;241m=\u001b[39m np\u001b[38;5;241m.\u001b[39mzeros((mask1\u001b[38;5;241m.\u001b[39mshape[\u001b[38;5;241m0\u001b[39m], mask1\u001b[38;5;241m.\u001b[39mshape[\u001b[38;5;241m1\u001b[39m], \u001b[38;5;241m3\u001b[39m), dtype\u001b[38;5;241m=\u001b[39mnp\u001b[38;5;241m.\u001b[39muint8)\n",
      "\u001b[0;31mAttributeError\u001b[0m: 'types.SimpleNamespace' object has no attribute 'ignore'"
     ]
    }
   ],
   "source": [
    "plot.display_image_settings()\n",
    "#plot.show_final(3)"
   ]
  },
  {
   "cell_type": "code",
   "execution_count": null,
   "metadata": {},
   "outputs": [],
   "source": [
    "results_comparer.display_controls()"
   ]
  },
  {
   "cell_type": "code",
   "execution_count": null,
   "metadata": {},
   "outputs": [],
   "source": [
    "sheet.initial_display()"
   ]
  },
  {
   "cell_type": "code",
   "execution_count": null,
   "metadata": {},
   "outputs": [],
   "source": [
    "settings_handler.display_settings()"
   ]
  }
 ],
 "metadata": {
  "kernelspec": {
   "display_name": "venv",
   "language": "python",
   "name": "python3"
  },
  "language_info": {
   "codemirror_mode": {
    "name": "ipython",
    "version": 3
   },
   "file_extension": ".py",
   "mimetype": "text/x-python",
   "name": "python",
   "nbconvert_exporter": "python",
   "pygments_lexer": "ipython3",
   "version": "3.12.3"
  }
 },
 "nbformat": 4,
 "nbformat_minor": 2
}
