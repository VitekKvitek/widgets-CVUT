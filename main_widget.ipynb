{
 "cells": [
  {
   "cell_type": "code",
   "execution_count": 137,
   "metadata": {},
   "outputs": [
    {
     "name": "stdout",
     "output_type": "stream",
     "text": [
      "The autoreload extension is already loaded. To reload it, use:\n",
      "  %reload_ext autoreload\n"
     ]
    }
   ],
   "source": [
    "%load_ext autoreload\n",
    "%autoreload 1\n",
    "\n",
    "%aimport sheet\n",
    "%aimport results_comparer\n",
    "%aimport plot\n",
    "%aimport settings_handler\n",
    "\n",
    "\n",
    "\n",
    "import cv2 as cv\n",
    "import numpy as np\n",
    "import matplotlib.pyplot as plt\n",
    "import ipywidgets as widgets\n",
    "from IPython.display import display\n",
    "from IPython.display import FileLink\n",
    "import os\n",
    "from IPython.display import clear_output, display\n"
   ]
  },
  {
   "cell_type": "code",
   "execution_count": 138,
   "metadata": {},
   "outputs": [
    {
     "data": {
      "application/vnd.jupyter.widget-view+json": {
       "model_id": "4c2214bdfcd64dfd86f1a5506e0adccd",
       "version_major": 2,
       "version_minor": 0
      },
      "text/plain": [
       "Button(description='desc Sort by AP', style=ButtonStyle())"
      ]
     },
     "metadata": {},
     "output_type": "display_data"
    },
    {
     "data": {
      "application/vnd.jupyter.widget-view+json": {
       "model_id": "0bbd955f8b9f427da75d024a925765b1",
       "version_major": 2,
       "version_minor": 0
      },
      "text/plain": [
       "Button(description='Sort by FPRat95', style=ButtonStyle())"
      ]
     },
     "metadata": {},
     "output_type": "display_data"
    },
    {
     "data": {
      "application/vnd.jupyter.widget-view+json": {
       "model_id": "8f4766aa682d40d29a9b383072cb32a0",
       "version_major": 2,
       "version_minor": 0
      },
      "text/plain": [
       "Output(outputs=({'output_type': 'display_data', 'data': {'text/plain': '<IPython.core.display.HTML object>', '…"
      ]
     },
     "metadata": {},
     "output_type": "display_data"
    },
    {
     "data": {
      "application/vnd.jupyter.widget-view+json": {
       "model_id": "6963b8fcae86490ab7bcc410c5f47a7e",
       "version_major": 2,
       "version_minor": 0
      },
      "text/plain": [
       "HBox(children=(ToggleButton(value=False, button_style='success', description='grood_logml_1000K_01adamw_tau10_…"
      ]
     },
     "metadata": {},
     "output_type": "display_data"
    },
    {
     "data": {
      "application/vnd.jupyter.widget-view+json": {
       "model_id": "c1906468240a4ec3bbf4fe64e6c45156",
       "version_major": 2,
       "version_minor": 0
      },
      "text/plain": [
       "HBox(children=(ToggleButton(value=False, button_style='info', description='RO', icon='check', tooltip='Descrip…"
      ]
     },
     "metadata": {},
     "output_type": "display_data"
    }
   ],
   "source": [
    "sheet.initial_display()"
   ]
  },
  {
   "cell_type": "code",
   "execution_count": 139,
   "metadata": {},
   "outputs": [
    {
     "data": {
      "application/vnd.jupyter.widget-view+json": {
       "model_id": "4a19c0984f914f34964f1c715328aac2",
       "version_major": 2,
       "version_minor": 0
      },
      "text/plain": [
       "HBox(children=(Dropdown(description='Algo 1:', options=('grood_logml_1000K_01adamw_tau10_resetthr1', 'grood_kn…"
      ]
     },
     "metadata": {},
     "output_type": "display_data"
    },
    {
     "data": {
      "application/vnd.jupyter.widget-view+json": {
       "model_id": "c12d707a2e82458a91b5b6c9f397f8fe",
       "version_major": 2,
       "version_minor": 0
      },
      "text/plain": [
       "HBox(children=(Button(button_style='info', description='Difference by AP', style=ButtonStyle()), Button(descri…"
      ]
     },
     "metadata": {},
     "output_type": "display_data"
    },
    {
     "data": {
      "application/vnd.jupyter.widget-view+json": {
       "model_id": "e2a827f63ebe4e748ef7f20d71471b66",
       "version_major": 2,
       "version_minor": 0
      },
      "text/plain": [
       "HBox(children=(Dropdown(description='Dataset', options=('FS', 'RO'), value=None), Dropdown(description='Image'…"
      ]
     },
     "metadata": {},
     "output_type": "display_data"
    }
   ],
   "source": [
    "results_comparer.display_controls()"
   ]
  },
  {
   "cell_type": "code",
   "execution_count": 140,
   "metadata": {},
   "outputs": [],
   "source": [
    "\n",
    "vals = {\n",
    "    'images': [None, None, None, None],  # [pred_gt, pred_gt2, default_gt, default_image]\n",
    "    'processed_images': [None, None, None],  # [alg1, alg2, default]\n",
    "    'selected_file': '01_Hanns_Klemm_Str_45_000002_000190.png',\n",
    "    'selected_folder': 'Fishyscapes_LaF',\n",
    "    'selected_algo': ['grood_knn_e2e_cityscapes_500k_fl003_condensv5_randomcrop1344_hflip_nptest_lr0025wd54_ipdf0_ioodpdf0uni1_staticood1',\n",
    "                      'grood_knn_e2e_cityscapes_500k_fl003_condensv5_randomcrop1344_hflip_nptest_lr0025wd54_ipdf0_ioodpdf0uni1_staticood1'],\n",
    "    'threshold': [0.8, 0.997] \n",
    "}"
   ]
  },
  {
   "cell_type": "code",
   "execution_count": 141,
   "metadata": {},
   "outputs": [],
   "source": [
    "def make_combined(new_gt, id):\n",
    "    # změna slideru = ulozeny #2 (ctyrty obrazek) a default zustanou stejne, nacteni #1 jen metod na kresleni       show_final(False, 0)\n",
    "    # změna metody = ulozeny #1 a default zustane stejny, nacteni gt noveho + metody kresleni                       show_final(True, 1)\n",
    "    # změna filu = nacteni novych obrazku + gt + metod kresleni u všech obrázků (id 3)                              show_final(True/False, 2)\n",
    "    \n",
    "    global vals\n",
    "\n",
    "    # New files for everything\n",
    "    if id > 1:\n",
    "        selected_file = vals['selected_file']\n",
    "        selected_folder = vals['selected_folder']\n",
    "\n",
    "        vals['images'][0] = plot.load_gt(selected_file, selected_folder, vals['selected_algo'][0], False)\n",
    "        vals['images'][1] = plot.load_gt(selected_file, selected_folder, vals['selected_algo'][1], False)\n",
    "        vals['images'][2] = plot.load_gt(selected_file, selected_folder, vals['selected_algo'][1], True)\n",
    "        vals['images'][3] = plot.load_image(selected_file, selected_folder)\n",
    "\n",
    "        vals['processed_images'][0] = plot.process_image(vals['images'][3], vals['images'][0], False, vals['threshold'], vals['images'][2])\n",
    "        vals['processed_images'][1] = plot.process_image(vals['images'][3], vals['images'][1], False, vals['threshold'], vals['images'][2])\n",
    "        vals['processed_images'][2] = plot.process_image(vals['images'][3], vals['images'][2], True, vals['threshold'])\n",
    "    \n",
    "    # New process / gt + process for selected image \n",
    "    else:\n",
    "        # Process image with new gt with ID\n",
    "        if new_gt:\n",
    "            vals['images'][id] = plot.load_gt(vals['selected_file'], vals['selected_folder'], vals['selected_algo'][id], False)\n",
    "            vals['processed_images'][id] = plot.process_image(vals['images'][3], vals['images'][id], False, vals['threshold'], vals['images'][2])\n",
    "        # Process with old gt with ID \n",
    "        else:\n",
    "            vals['processed_images'][id] = plot.process_image(vals['images'][3], vals['images'][id], False, vals['threshold'], vals['images'][2])\n"
   ]
  },
  {
   "cell_type": "code",
   "execution_count": 142,
   "metadata": {},
   "outputs": [],
   "source": [
    "def show_final(new_gt, id, fig_size=(16, 12)):\n",
    "    make_combined(new_gt, id)\n",
    "    final_image = plot.combine_rows(vals['processed_images'][2], vals['processed_images'][0], vals['processed_images'][1])\n",
    "    \n",
    "\n",
    "    with output:\n",
    "        clear_output(wait=True)\n",
    "        plt.figure(figsize=fig_size)\n",
    "        plt.imshow(final_image)\n",
    "        plt.axis('off')\n",
    "        plt.title('Contours and Overlays')\n",
    "        plt.show()"
   ]
  },
  {
   "cell_type": "code",
   "execution_count": 143,
   "metadata": {},
   "outputs": [],
   "source": [
    "def update_slider(change, id):    \n",
    "    if(id == 0):\n",
    "        vals['threshold'] = [road_slider0.value, obstacle_slider0.value]\n",
    "    \n",
    "    else:\n",
    "        vals['threshold'] = [road_slider1.value, obstacle_slider1.value]\n",
    "    \n",
    "    # Show the image with the updated slider values\n",
    "    show_final(False, id)"
   ]
  },
  {
   "cell_type": "code",
   "execution_count": 144,
   "metadata": {},
   "outputs": [
    {
     "data": {
      "application/vnd.jupyter.widget-view+json": {
       "model_id": "282a01a53917411b93858f1552165132",
       "version_major": 2,
       "version_minor": 0
      },
      "text/plain": [
       "FloatSlider(value=0.8, description='Road Threshold', layout=Layout(width='500px'), max=0.9995, min=0.4, readou…"
      ]
     },
     "metadata": {},
     "output_type": "display_data"
    },
    {
     "data": {
      "application/vnd.jupyter.widget-view+json": {
       "model_id": "13f09d1c511f4bfcb1955f8fa351f6da",
       "version_major": 2,
       "version_minor": 0
      },
      "text/plain": [
       "FloatSlider(value=0.997, description='Obstacle Threshold', layout=Layout(width='500px'), max=1.0, min=0.95, re…"
      ]
     },
     "metadata": {},
     "output_type": "display_data"
    },
    {
     "data": {
      "application/vnd.jupyter.widget-view+json": {
       "model_id": "c0b774b1c92644f98dfd4cdb0b829a4e",
       "version_major": 2,
       "version_minor": 0
      },
      "text/plain": [
       "FloatSlider(value=0.8, description='Road Threshold', layout=Layout(width='500px'), max=0.9995, min=0.4, readou…"
      ]
     },
     "metadata": {},
     "output_type": "display_data"
    },
    {
     "data": {
      "application/vnd.jupyter.widget-view+json": {
       "model_id": "e97f9ec0a15944ef8645de3e72927270",
       "version_major": 2,
       "version_minor": 0
      },
      "text/plain": [
       "FloatSlider(value=0.997, description='Obstacle Threshold', layout=Layout(width='500px'), max=1.0, min=0.95, re…"
      ]
     },
     "metadata": {},
     "output_type": "display_data"
    },
    {
     "data": {
      "application/vnd.jupyter.widget-view+json": {
       "model_id": "8d6231e8d00b4f22b29f4ab27ace77cb",
       "version_major": 2,
       "version_minor": 0
      },
      "text/plain": [
       "Output()"
      ]
     },
     "metadata": {},
     "output_type": "display_data"
    },
    {
     "data": {
      "application/vnd.jupyter.widget-view+json": {
       "model_id": "669567be5132481192657232524bc79e",
       "version_major": 2,
       "version_minor": 0
      },
      "text/plain": [
       "Button(description='Save Image', style=ButtonStyle())"
      ]
     },
     "metadata": {},
     "output_type": "display_data"
    }
   ],
   "source": [
    "output = widgets.Output()\n",
    "\n",
    "# Create a save button\n",
    "save_button = widgets.Button(description=\"Save Image\") \n",
    "save_button.on_click(lambda b:plot.save_image(vals['processed_images'][2], vals['processed_images'][0], vals['processed_images'][1], b))\n",
    "\n",
    "road_slider0 = widgets.FloatSlider(value=vals['threshold'][0], min=0.4, max=0.9995, step=0.0001, description='Road Threshold', readout_format='.4f',\n",
    "                                  style={'description_width': 'initial'}, layout=widgets.Layout(width='500px'))\n",
    "road_slider0.observe(lambda change:update_slider(change, 0), names='value')\n",
    "\n",
    "obstacle_slider0 = widgets.FloatSlider(value=vals['threshold'][1], min=0.95, max=1, step=0.0001, description='Obstacle Threshold', readout_format='.4f', \n",
    "                                      style={'description_width': 'initial'}, layout=widgets.Layout(width='500px'))\n",
    "obstacle_slider0.observe(lambda change:update_slider(change, 0), names='value')\n",
    "\n",
    "\n",
    "road_slider1 = widgets.FloatSlider(value=vals['threshold'][0], min=0.4, max=0.9995, step=0.0001, description='Road Threshold', readout_format='.4f',\n",
    "                                  style={'description_width': 'initial'}, layout=widgets.Layout(width='500px'))\n",
    "road_slider1.observe(lambda change:update_slider(change, 1), names='value')\n",
    "\n",
    "obstacle_slider1 = widgets.FloatSlider(value=vals['threshold'][1], min=0.95, max=1, step=0.0001, description='Obstacle Threshold', readout_format='.4f', \n",
    "                                      style={'description_width': 'initial'}, layout=widgets.Layout(width='500px'))\n",
    "obstacle_slider1.observe(lambda change:update_slider(change, 1), names='value')\n",
    "\n",
    "\n",
    " \n",
    "\n",
    "display(road_slider0, obstacle_slider0, road_slider1, obstacle_slider1, output, save_button)\n",
    "show_final(True, 3)\n"
   ]
  },
  {
   "cell_type": "code",
   "execution_count": 145,
   "metadata": {},
   "outputs": [
    {
     "data": {
      "application/vnd.jupyter.widget-view+json": {
       "model_id": "392dd7ab87c64bdfa2260832950ba338",
       "version_major": 2,
       "version_minor": 0
      },
      "text/plain": [
       "Dropdown(description='Choose preset', options=('preset.json', 'nix.json'), value='preset.json')"
      ]
     },
     "metadata": {},
     "output_type": "display_data"
    },
    {
     "data": {
      "application/vnd.jupyter.widget-view+json": {
       "model_id": "2220811538d245d4af522743994183b7",
       "version_major": 2,
       "version_minor": 0
      },
      "text/plain": [
       "Button(button_style='success', description='Load', style=ButtonStyle(), tooltip='Click to load data')"
      ]
     },
     "metadata": {},
     "output_type": "display_data"
    },
    {
     "data": {
      "application/vnd.jupyter.widget-view+json": {
       "model_id": "6e3cbfa7a7864059a1d247b9e55f0759",
       "version_major": 2,
       "version_minor": 0
      },
      "text/plain": [
       "Text(value='', description='Name preset', placeholder='Do not include .json')"
      ]
     },
     "metadata": {},
     "output_type": "display_data"
    },
    {
     "data": {
      "application/vnd.jupyter.widget-view+json": {
       "model_id": "8335112bec9a4c8588b1b561c67fcab6",
       "version_major": 2,
       "version_minor": 0
      },
      "text/plain": [
       "Button(button_style='success', description='Save', style=ButtonStyle(), tooltip='Click to save data')"
      ]
     },
     "metadata": {},
     "output_type": "display_data"
    }
   ],
   "source": [
    "settings_handler.display_settings()"
   ]
  }
 ],
 "metadata": {
  "kernelspec": {
   "display_name": "venv",
   "language": "python",
   "name": "python3"
  },
  "language_info": {
   "codemirror_mode": {
    "name": "ipython",
    "version": 3
   },
   "file_extension": ".py",
   "mimetype": "text/x-python",
   "name": "python",
   "nbconvert_exporter": "python",
   "pygments_lexer": "ipython3",
   "version": "3.12.3"
  }
 },
 "nbformat": 4,
 "nbformat_minor": 2
}
