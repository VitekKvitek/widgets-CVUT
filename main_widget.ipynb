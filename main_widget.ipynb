{
 "cells": [
  {
   "cell_type": "code",
   "execution_count": null,
   "metadata": {},
   "outputs": [],
   "source": [
    "%load_ext autoreload\n",
    "%autoreload 1\n",
    "\n",
    "%aimport sheet\n",
    "%aimport results_comparer\n",
    "%aimport plot\n",
    "%aimport settings_handler\n",
    "\n",
    "\n",
    "\n",
    "import cv2 as cv\n",
    "import numpy as np\n",
    "import matplotlib.pyplot as plt\n",
    "import ipywidgets as widgets\n",
    "from IPython.display import display\n",
    "from IPython.display import FileLink\n",
    "import os\n",
    "from IPython.display import clear_output, display\n"
   ]
  },
  {
   "cell_type": "code",
   "execution_count": null,
   "metadata": {},
   "outputs": [],
   "source": [
    "sheet.initial_display()"
   ]
  },
  {
   "cell_type": "code",
   "execution_count": null,
   "metadata": {},
   "outputs": [],
   "source": [
    "results_comparer.display_controls()"
   ]
  },
  {
   "cell_type": "code",
   "execution_count": null,
   "metadata": {},
   "outputs": [],
   "source": [
    "\n",
    "vals = {\n",
    "    'images': [None, None, None, None],  # [pred_gt, pred_gt2, default_gt, default_image]\n",
    "    'processed_images': [None, None, None],  # [alg1, alg2, default]\n",
    "    'selected_file': '01_Hanns_Klemm_Str_45_000002_000190.png',\n",
    "    'selected_folder': 'Fishyscapes_LaF',\n",
    "    'selected_algo': ['grood_knn_e2e_cityscapes_500k_fl003_condensv5_randomcrop1344_hflip_nptest_lr0025wd54_ipdf0_ioodpdf0uni1_staticood1',\n",
    "                      'grood_knn_e2e_cityscapes_500k_fl003_condensv5_randomcrop1344_hflip_nptest_lr0025wd54_ipdf0_ioodpdf0uni1_staticood1'],\n",
    "    'threshold': [0.8, 0.997] \n",
    "}"
   ]
  },
  {
   "cell_type": "code",
   "execution_count": null,
   "metadata": {},
   "outputs": [],
   "source": [
    "def make_combined(new_gt, id):\n",
    "    # změna slideru = ulozeny #2 (ctyrty obrazek) a default zustanou stejne, nacteni #1 jen metod na kresleni       show_final(False, 0)\n",
    "    # změna metody = ulozeny #1 a default zustane stejny, nacteni gt noveho + metody kresleni                       show_final(True, 1)\n",
    "    # změna filu = nacteni novych obrazku + gt + metod kresleni u všech obrázků (id 3)                              show_final(True/False, 2)\n",
    "    \n",
    "    global vals\n",
    "\n",
    "    # New files for everything\n",
    "    if id > 1:\n",
    "        selected_file = vals['selected_file']\n",
    "        selected_folder = vals['selected_folder']\n",
    "\n",
    "        vals['images'][0] = plot.load_gt(selected_file, selected_folder, vals['selected_algo'][0], False)\n",
    "        vals['images'][1] = plot.load_gt(selected_file, selected_folder, vals['selected_algo'][1], False)\n",
    "        vals['images'][2] = plot.load_gt(selected_file, selected_folder, vals['selected_algo'][1], True)\n",
    "        vals['images'][3] = plot.load_image(selected_file, selected_folder)\n",
    "\n",
    "        vals['processed_images'][0] = plot.process_image(vals['images'][3], vals['images'][0], False, vals['threshold'], vals['images'][2])\n",
    "        vals['processed_images'][1] = plot.process_image(vals['images'][3], vals['images'][1], False, vals['threshold'], vals['images'][2])\n",
    "        vals['processed_images'][2] = plot.process_image(vals['images'][3], vals['images'][2], True, vals['threshold'])\n",
    "    \n",
    "    # New process / gt + process for selected image \n",
    "    else:\n",
    "        # Process image with new gt with ID\n",
    "        if new_gt:\n",
    "            vals['images'][id] = plot.load_gt(vals['selected_file'], vals['selected_folder'], vals['selected_algo'][id], False)\n",
    "            vals['processed_images'][id] = plot.process_image(vals['images'][3], vals['images'][id], False, vals['threshold'], vals['images'][2])\n",
    "        # Process with old gt with ID \n",
    "        else:\n",
    "            vals['processed_images'][id] = plot.process_image(vals['images'][3], vals['images'][id], False, vals['threshold'], vals['images'][2])\n"
   ]
  },
  {
   "cell_type": "code",
   "execution_count": null,
   "metadata": {},
   "outputs": [],
   "source": [
    "def show_final(new_gt, id, fig_size=(16, 12)):\n",
    "    make_combined(new_gt, id)\n",
    "    final_image = plot.combine_rows(vals['processed_images'][2], vals['processed_images'][0], vals['processed_images'][1])\n",
    "    \n",
    "\n",
    "    with output:\n",
    "        clear_output(wait=True)\n",
    "        plt.figure(figsize=fig_size)\n",
    "        plt.imshow(final_image)\n",
    "        plt.axis('off')\n",
    "        plt.title('Contours and Overlays')\n",
    "        plt.show()"
   ]
  },
  {
   "cell_type": "code",
   "execution_count": null,
   "metadata": {},
   "outputs": [],
   "source": [
    "def update_slider(change, id):    \n",
    "    if(id == 0):\n",
    "        vals['threshold'] = [road_slider0.value, obstacle_slider0.value]\n",
    "    \n",
    "    else:\n",
    "        vals['threshold'] = [road_slider1.value, obstacle_slider1.value]\n",
    "    \n",
    "    # Show the image with the updated slider values\n",
    "    show_final(False, id)"
   ]
  },
  {
   "cell_type": "code",
   "execution_count": null,
   "metadata": {},
   "outputs": [],
   "source": [
    "def prepare_save_image():\n",
    "    save_button = widgets.Button(description=\"Save Image\")     \n",
    "    save_button.on_click(lambda b:plot.save_image(vals['processed_images'][2], vals['processed_images'][0], vals['processed_images'][1], b))\n",
    "    return save_button\n",
    "save_button = prepare_save_image()"
   ]
  },
  {
   "cell_type": "code",
   "execution_count": null,
   "metadata": {},
   "outputs": [],
   "source": [
    "def prepare_sliders():\n",
    "    road_slider0 = widgets.FloatSlider(value=0.8, min=0.4, max=0.9995, step=0.0001, description='Road Threshold', readout_format='.4f',\n",
    "                                  style={'description_width': 'initial'}, layout=widgets.Layout(width='500px'))\n",
    "    road_slider0.observe(lambda change:update_slider(change, 0), names='value')\n",
    "\n",
    "    obstacle_slider0 = widgets.FloatSlider(value=0.997, min=0.95, max=1, step=0.0001, description='Obstacle Threshold', readout_format='.4f', \n",
    "                                        style={'description_width': 'initial'}, layout=widgets.Layout(width='500px'))\n",
    "    obstacle_slider0.observe(lambda change:update_slider(change, 0), names='value')\n",
    "\n",
    "\n",
    "    road_slider1 = widgets.FloatSlider(value=0.8, min=0.4, max=0.9995, step=0.0001, description='Road Threshold', readout_format='.4f',\n",
    "                                    style={'description_width': 'initial'}, layout=widgets.Layout(width='500px'))\n",
    "    road_slider1.observe(lambda change:update_slider(change, 1), names='value')\n",
    "\n",
    "    obstacle_slider1 = widgets.FloatSlider(value=0.997, min=0.95, max=1, step=0.0001, description='Obstacle Threshold', readout_format='.4f', \n",
    "                                        style={'description_width': 'initial'}, layout=widgets.Layout(width='500px'))\n",
    "    obstacle_slider1.observe(lambda change:update_slider(change, 1), names='value')\n",
    "    return road_slider0, obstacle_slider0, road_slider1, obstacle_slider1\n",
    "road_slider0, obstacle_slider0, road_slider1, obstacle_slider1 = prepare_sliders()"
   ]
  },
  {
   "cell_type": "code",
   "execution_count": null,
   "metadata": {},
   "outputs": [],
   "source": [
    "def display_image_settings():\n",
    "    display(road_slider0, \n",
    "            obstacle_slider0, \n",
    "            road_slider1, \n",
    "            obstacle_slider1, \n",
    "            output, \n",
    "            save_button)\n",
    "output = widgets.Output()"
   ]
  },
  {
   "cell_type": "code",
   "execution_count": null,
   "metadata": {},
   "outputs": [],
   "source": [
    "display_image_settings()\n",
    "show_final(True, 3)"
   ]
  },
  {
   "cell_type": "code",
   "execution_count": null,
   "metadata": {},
   "outputs": [],
   "source": [
    "settings_handler.display_settings()"
   ]
  }
 ],
 "metadata": {
  "kernelspec": {
   "display_name": "venv",
   "language": "python",
   "name": "python3"
  },
  "language_info": {
   "codemirror_mode": {
    "name": "ipython",
    "version": 3
   },
   "file_extension": ".py",
   "mimetype": "text/x-python",
   "name": "python",
   "nbconvert_exporter": "python",
   "pygments_lexer": "ipython3",
   "version": "3.12.3"
  }
 },
 "nbformat": 4,
 "nbformat_minor": 2
}
