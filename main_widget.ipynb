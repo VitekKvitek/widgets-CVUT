{
 "cells": [
  {
   "cell_type": "code",
   "execution_count": 12,
   "metadata": {},
   "outputs": [
    {
     "name": "stdout",
     "output_type": "stream",
     "text": [
      "The autoreload extension is already loaded. To reload it, use:\n",
      "  %reload_ext autoreload\n"
     ]
    }
   ],
   "source": [
    "%load_ext autoreload\n",
    "%autoreload 1\n",
    "\n",
    "%aimport sheet\n",
    "%aimport results_comparer\n",
    "%aimport plot\n",
    "\n",
    "\n",
    "\n",
    "import cv2 as cv\n",
    "import numpy as np\n",
    "import matplotlib.pyplot as plt\n",
    "import ipywidgets as widgets\n",
    "from IPython.display import display\n",
    "from IPython.display import FileLink\n",
    "import os\n",
    "from IPython.display import clear_output, display\n"
   ]
  },
  {
   "cell_type": "code",
   "execution_count": 13,
   "metadata": {},
   "outputs": [
    {
     "data": {
      "application/vnd.jupyter.widget-view+json": {
       "model_id": "4c2214bdfcd64dfd86f1a5506e0adccd",
       "version_major": 2,
       "version_minor": 0
      },
      "text/plain": [
       "Button(description='Sort by AP', style=ButtonStyle())"
      ]
     },
     "metadata": {},
     "output_type": "display_data"
    },
    {
     "data": {
      "application/vnd.jupyter.widget-view+json": {
       "model_id": "0bbd955f8b9f427da75d024a925765b1",
       "version_major": 2,
       "version_minor": 0
      },
      "text/plain": [
       "Button(description='Sort by FPRat95', style=ButtonStyle())"
      ]
     },
     "metadata": {},
     "output_type": "display_data"
    },
    {
     "data": {
      "application/vnd.jupyter.widget-view+json": {
       "model_id": "8f4766aa682d40d29a9b383072cb32a0",
       "version_major": 2,
       "version_minor": 0
      },
      "text/plain": [
       "Output(outputs=({'output_type': 'display_data', 'data': {'text/plain': '<IPython.core.display.HTML object>', '…"
      ]
     },
     "metadata": {},
     "output_type": "display_data"
    },
    {
     "data": {
      "application/vnd.jupyter.widget-view+json": {
       "model_id": "99dbfedab43740deafaf4423ba3cb190",
       "version_major": 2,
       "version_minor": 0
      },
      "text/plain": [
       "HBox(children=(ToggleButton(value=False, button_style='success', description='grood_logml_1000K_01adamw_tau10_…"
      ]
     },
     "metadata": {},
     "output_type": "display_data"
    },
    {
     "data": {
      "application/vnd.jupyter.widget-view+json": {
       "model_id": "61ad1a1ad4d9444c89c979953f13f3e6",
       "version_major": 2,
       "version_minor": 0
      },
      "text/plain": [
       "HBox(children=(ToggleButton(value=False, button_style='info', description='RO', icon='check', tooltip='Descrip…"
      ]
     },
     "metadata": {},
     "output_type": "display_data"
    }
   ],
   "source": [
    "sheet.initial_display()"
   ]
  },
  {
   "cell_type": "code",
   "execution_count": 14,
   "metadata": {},
   "outputs": [
    {
     "data": {
      "application/vnd.jupyter.widget-view+json": {
       "model_id": "99a779a7b65848fabcd41d12ec010638",
       "version_major": 2,
       "version_minor": 0
      },
      "text/plain": [
       "HBox(children=(Dropdown(description='Algo 1:', options=('grood_logml_1000K_01adamw_tau10_resetthr1', 'grood_kn…"
      ]
     },
     "metadata": {},
     "output_type": "display_data"
    },
    {
     "data": {
      "application/vnd.jupyter.widget-view+json": {
       "model_id": "c12d707a2e82458a91b5b6c9f397f8fe",
       "version_major": 2,
       "version_minor": 0
      },
      "text/plain": [
       "HBox(children=(Button(button_style='info', description='Difference by AP', style=ButtonStyle()), Button(descri…"
      ]
     },
     "metadata": {},
     "output_type": "display_data"
    },
    {
     "data": {
      "application/vnd.jupyter.widget-view+json": {
       "model_id": "bccec04217f748538999b3271f7e3edf",
       "version_major": 2,
       "version_minor": 0
      },
      "text/plain": [
       "HBox(children=(Dropdown(description='Dataset', options=('RO21A', 'FS', 'RA', 'RO'), value=None), Dropdown(desc…"
      ]
     },
     "metadata": {},
     "output_type": "display_data"
    }
   ],
   "source": [
    "results_comparer.display_controls()"
   ]
  },
  {
   "cell_type": "code",
   "execution_count": 15,
   "metadata": {},
   "outputs": [],
   "source": [
    "\n",
    "vals = {\n",
    "    'images': [None, None, None, None],  # [pred_gt, pred_gt2, default_gt, default_image]\n",
    "    'processed_images': [None, None, None],  # [alg1, alg2, default]\n",
    "    'selected_file': '01_Hanns_Klemm_Str_45_000002_000190.png',\n",
    "    'selected_folder': 'Fishyscapes_LaF',\n",
    "    'selected_algo': ['grood_knn_e2e_cityscapes_500k_fl003_condensv5_randomcrop1344_hflip_nptest_lr0025wd54_ipdf0_ioodpdf0uni1_staticood1',\n",
    "                      'grood_knn_e2e_cityscapes_500k_fl003_condensv5_randomcrop1344_hflip_nptest_lr0025wd54_ipdf0_ioodpdf0uni1_staticood1'],\n",
    "    'threshold': [0.8, 0.997] \n",
    "}"
   ]
  },
  {
   "cell_type": "code",
   "execution_count": 17,
   "metadata": {},
   "outputs": [],
   "source": [
    "def show_final(new_gt, id, fig_size=(16, 12)):\n",
    "    \n",
    "    # změna slideru = ulozeny #2 (ctyrty obrazek) a default zustanou stejne, nacteni #1 jen metod na kresleni       show_final(False, 0)\n",
    "    # změna metody = ulozeny #1 a default zustane stejny, nacteni gt noveho + metody kresleni                       show_final(True, 1)\n",
    "    # změna filu = nacteni novych obrazku + gt + metod kresleni u všech obrázků (id 3)                              show_final(True/False, 2)\n",
    "    \n",
    "    global vals\n",
    "\n",
    "    # New files for everything\n",
    "    if id > 1:\n",
    "        selected_file = vals['selected_file']\n",
    "        selected_folder = vals['selected_folder']\n",
    "\n",
    "        vals['images'][0] = plot.load_gt(selected_file, selected_folder, vals['selected_algo'][0], False)\n",
    "        vals['images'][1] = plot.load_gt(selected_file, selected_folder, vals['selected_algo'][1], False)\n",
    "        vals['images'][2] = plot.load_gt(selected_file, selected_folder, vals['selected_algo'][1], True)\n",
    "        vals['images'][3] = plot.load_image(selected_file, selected_folder)\n",
    "\n",
    "        vals['processed_images'][0] = plot.process_image(vals['images'][3], vals['images'][0], False, vals['threshold'], vals['images'][2])\n",
    "        vals['processed_images'][1] = plot.process_image(vals['images'][3], vals['images'][1], False, vals['threshold'], vals['images'][2])\n",
    "        vals['processed_images'][2] = plot.process_image(vals['images'][3], vals['images'][2], True, vals['threshold'])\n",
    "    \n",
    "    # New process / gt + process for selected image \n",
    "    else:\n",
    "        # Process image with new gt with ID\n",
    "        if new_gt:\n",
    "            vals['images'][id] = plot.load_gt(vals['selected_file'], vals['selected_folder'], vals['selected_algo'][id], False)\n",
    "            vals['processed_images'][id] = plot.process_image(vals['images'][3], vals['images'][id], False, vals['threshold'], vals['images'][2])\n",
    "        # Process with old gt with ID \n",
    "        else:\n",
    "            vals['processed_images'][id] = plot.process_image(vals['images'][3], vals['images'][id], False, vals['threshold'], vals['images'][2])\n",
    "\n",
    "    final_image = np.concatenate((vals['processed_images'][2], vals['processed_images'][0], vals['processed_images'][1]), axis=0)  # combined alg1 and default\n",
    "    \n",
    "    with output:\n",
    "        clear_output(wait=True)\n",
    "        plt.figure(figsize=fig_size)\n",
    "        plt.imshow(final_image)\n",
    "        plt.axis('off')\n",
    "        plt.title('Contours and Overlays')\n",
    "        plt.show()"
   ]
  },
  {
   "cell_type": "code",
   "execution_count": 18,
   "metadata": {},
   "outputs": [],
   "source": [
    "def on_folder_selected(change):\n",
    "    vals['selected_folder'] = change['new']\n",
    "    # Update the image selector options based on the selected folder\n",
    "    image_selector_widget.options = plot.get_all_files(f'data/export/datasets/{vals[\"selected_folder\"]}/test/imgs/')"
   ]
  },
  {
   "cell_type": "code",
   "execution_count": 19,
   "metadata": {},
   "outputs": [],
   "source": [
    "def on_algo_selected(change, id):    \n",
    "    vals['selected_algo'][id] = change['new']\n",
    "    # Show the image with the new model selected\n",
    "    show_final(True, id)"
   ]
  },
  {
   "cell_type": "code",
   "execution_count": 20,
   "metadata": {},
   "outputs": [],
   "source": [
    "def on_file_selected(change):\n",
    "    vals['selected_file'] = change['new']\n",
    "    # Show the image with the new file selected\n",
    "    show_final(True, 3)"
   ]
  },
  {
   "cell_type": "code",
   "execution_count": 21,
   "metadata": {},
   "outputs": [],
   "source": [
    "def update_slider(change, id):    \n",
    "    if(id == 0):\n",
    "        vals['threshold'] = [road_slider0.value, obstacle_slider0.value]\n",
    "    \n",
    "    else:\n",
    "        vals['threshold'] = [road_slider1.value, obstacle_slider1.value]\n",
    "    \n",
    "    # Show the image with the updated slider values\n",
    "    show_final(False, id)"
   ]
  },
  {
   "cell_type": "code",
   "execution_count": 22,
   "metadata": {},
   "outputs": [],
   "source": [
    "def save_image(b):\n",
    "    # Create 'output' directory if it doesn't exist\n",
    "    output_dir = 'output'\n",
    "    if not os.path.exists(output_dir):\n",
    "        os.makedirs(output_dir)\n",
    "\n",
    "    # Define the filename with the 'output' directory\n",
    "    filename = os.path.join(output_dir, 'combined_image.png')\n",
    "    \n",
    "    final_rgb = np.concatenate((vals['processed_images'][2], vals['processed_images'][0], vals['processed_images'][1]), axis=0)[:, :, [2, 1, 0]]\n",
    "    \n",
    "    cv.imwrite(filename, final_rgb)\n",
    "    display(FileLink(filename))\n",
    "\n",
    "# Create a save button\n",
    "save_button = widgets.Button(description=\"Save Image\") \n",
    "save_button.on_click(save_image)"
   ]
  },
  {
   "cell_type": "code",
   "execution_count": 23,
   "metadata": {},
   "outputs": [
    {
     "data": {
      "application/vnd.jupyter.widget-view+json": {
       "model_id": "4e950d54254f4adc87f80f9605a615c5",
       "version_major": 2,
       "version_minor": 0
      },
      "text/plain": [
       "Dropdown(description='Choose folder', layout=Layout(width='500px'), options=('RoadObstacles21', 'RoadAnomaly',…"
      ]
     },
     "metadata": {},
     "output_type": "display_data"
    },
    {
     "data": {
      "application/vnd.jupyter.widget-view+json": {
       "model_id": "ec1fdd2425f240728304a5df48b4832e",
       "version_major": 2,
       "version_minor": 0
      },
      "text/plain": [
       "Dropdown(description='Choose file', layout=Layout(width='500px'), options=('01_Hanns_Klemm_Str_45_000005_00023…"
      ]
     },
     "metadata": {},
     "output_type": "display_data"
    },
    {
     "data": {
      "application/vnd.jupyter.widget-view+json": {
       "model_id": "0267cfa2120149d89603f2ff3c80fa3e",
       "version_major": 2,
       "version_minor": 0
      },
      "text/plain": [
       "Dropdown(description='Choose Algorithm 0', layout=Layout(width='500px'), options=('grood_logml_1000K_01adamw_t…"
      ]
     },
     "metadata": {},
     "output_type": "display_data"
    },
    {
     "data": {
      "application/vnd.jupyter.widget-view+json": {
       "model_id": "0909f71324f341a49d110af01ca8c061",
       "version_major": 2,
       "version_minor": 0
      },
      "text/plain": [
       "Dropdown(description='Choose Algorithm 1', layout=Layout(width='500px'), options=('grood_logml_1000K_01adamw_t…"
      ]
     },
     "metadata": {},
     "output_type": "display_data"
    },
    {
     "data": {
      "application/vnd.jupyter.widget-view+json": {
       "model_id": "a4dcf58c5ca94d909f8e2bb969c44abd",
       "version_major": 2,
       "version_minor": 0
      },
      "text/plain": [
       "FloatSlider(value=0.8, description='Road Threshold', layout=Layout(width='500px'), max=0.9995, min=0.4, readou…"
      ]
     },
     "metadata": {},
     "output_type": "display_data"
    },
    {
     "data": {
      "application/vnd.jupyter.widget-view+json": {
       "model_id": "91628ce1dbe7498fa684199dce8080f3",
       "version_major": 2,
       "version_minor": 0
      },
      "text/plain": [
       "FloatSlider(value=0.997, description='Obstacle Threshold', layout=Layout(width='500px'), max=1.0, min=0.95, re…"
      ]
     },
     "metadata": {},
     "output_type": "display_data"
    },
    {
     "data": {
      "application/vnd.jupyter.widget-view+json": {
       "model_id": "355d16be5bb74683849303b9c686e4f2",
       "version_major": 2,
       "version_minor": 0
      },
      "text/plain": [
       "FloatSlider(value=0.8, description='Road Threshold', layout=Layout(width='500px'), max=0.9995, min=0.4, readou…"
      ]
     },
     "metadata": {},
     "output_type": "display_data"
    },
    {
     "data": {
      "application/vnd.jupyter.widget-view+json": {
       "model_id": "67d9d6c1c19b41a49084a10c59a3c799",
       "version_major": 2,
       "version_minor": 0
      },
      "text/plain": [
       "FloatSlider(value=0.997, description='Obstacle Threshold', layout=Layout(width='500px'), max=1.0, min=0.95, re…"
      ]
     },
     "metadata": {},
     "output_type": "display_data"
    },
    {
     "data": {
      "application/vnd.jupyter.widget-view+json": {
       "model_id": "edbb20a84f7a47e7ac3129feaff47e0b",
       "version_major": 2,
       "version_minor": 0
      },
      "text/plain": [
       "Output()"
      ]
     },
     "metadata": {},
     "output_type": "display_data"
    },
    {
     "data": {
      "application/vnd.jupyter.widget-view+json": {
       "model_id": "724fdb1ae4fd460cb4ce588ad6ac5ee6",
       "version_major": 2,
       "version_minor": 0
      },
      "text/plain": [
       "Button(description='Save Image', style=ButtonStyle())"
      ]
     },
     "metadata": {},
     "output_type": "display_data"
    }
   ],
   "source": [
    "output = widgets.Output()\n",
    "\n",
    "road_slider0 = widgets.FloatSlider(value=vals['threshold'][0], min=0.4, max=0.9995, step=0.0001, description='Road Threshold', readout_format='.4f',\n",
    "                                  style={'description_width': 'initial'}, layout=widgets.Layout(width='500px'))\n",
    "road_slider0.observe(lambda change:update_slider(change, 0), names='value')\n",
    "\n",
    "obstacle_slider0 = widgets.FloatSlider(value=vals['threshold'][1], min=0.95, max=1, step=0.0001, description='Obstacle Threshold', readout_format='.4f', \n",
    "                                      style={'description_width': 'initial'}, layout=widgets.Layout(width='500px'))\n",
    "obstacle_slider0.observe(lambda change:update_slider(change, 0), names='value')\n",
    "\n",
    "\n",
    "road_slider1 = widgets.FloatSlider(value=vals['threshold'][0], min=0.4, max=0.9995, step=0.0001, description='Road Threshold', readout_format='.4f',\n",
    "                                  style={'description_width': 'initial'}, layout=widgets.Layout(width='500px'))\n",
    "road_slider1.observe(lambda change:update_slider(change, 1), names='value')\n",
    "\n",
    "obstacle_slider1 = widgets.FloatSlider(value=vals['threshold'][1], min=0.95, max=1, step=0.0001, description='Obstacle Threshold', readout_format='.4f', \n",
    "                                      style={'description_width': 'initial'}, layout=widgets.Layout(width='500px'))\n",
    "obstacle_slider1.observe(lambda change:update_slider(change, 1), names='value')\n",
    "\n",
    "folder_selector_widget = widgets.Dropdown(\n",
    "    options=plot.get_all_folders('data/export/datasets/'),  # Call the folder-only function\n",
    "    description='Choose folder',\n",
    "    disabled=False,\n",
    "    style={'description_width': 'initial'}, layout=widgets.Layout(width='500px')\n",
    ")\n",
    "folder_selector_widget.observe(on_folder_selected, names='value')\n",
    "\n",
    "image_selector_widget = widgets.Dropdown(\n",
    "    options=plot.get_all_files('data/export/datasets/' + vals['selected_folder'] + '/test/imgs/'),\n",
    "    description='Choose file',\n",
    "    disabled=False,\n",
    "    style={'description_width': 'initial'}, layout=widgets.Layout(width='500px')\n",
    ")\n",
    "image_selector_widget.observe(on_file_selected, names='value')\n",
    "\n",
    "algo_selector_widget0 = widgets.Dropdown(\n",
    "    options=plot.get_all_folders('data/export/results/'),\n",
    "    description='Choose Algorithm 0',\n",
    "    disabled=False,\n",
    "    style={'description_width': 'initial'}, layout=widgets.Layout(width='500px')\n",
    ")\n",
    "algo_selector_widget0.observe(lambda change: on_algo_selected(change, 0), names='value')\n",
    "\n",
    "algo_selector_widget1 = widgets.Dropdown(\n",
    "    options=plot.get_all_folders('data/export/results/'),\n",
    "    description='Choose Algorithm 1',\n",
    "    disabled=False,\n",
    "    style={'description_width': 'initial'}, layout=widgets.Layout(width='500px')\n",
    ")\n",
    "algo_selector_widget1.observe(lambda change: on_algo_selected(change, 1), names='value')\n",
    "\n",
    " \n",
    "\n",
    "display(folder_selector_widget, image_selector_widget, algo_selector_widget0, algo_selector_widget1, road_slider0, obstacle_slider0, road_slider1, obstacle_slider1, output, save_button)\n",
    "show_final(True, 3)\n"
   ]
  }
 ],
 "metadata": {
  "kernelspec": {
   "display_name": "venv",
   "language": "python",
   "name": "python3"
  },
  "language_info": {
   "codemirror_mode": {
    "name": "ipython",
    "version": 3
   },
   "file_extension": ".py",
   "mimetype": "text/x-python",
   "name": "python",
   "nbconvert_exporter": "python",
   "pygments_lexer": "ipython3",
   "version": "3.12.3"
  }
 },
 "nbformat": 4,
 "nbformat_minor": 2
}
