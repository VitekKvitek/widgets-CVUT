{
 "cells": [
  {
   "cell_type": "code",
   "execution_count": 14,
   "metadata": {},
   "outputs": [
    {
     "name": "stdout",
     "output_type": "stream",
     "text": [
      "The autoreload extension is already loaded. To reload it, use:\n",
      "  %reload_ext autoreload\n"
     ]
    }
   ],
   "source": [
    "%load_ext autoreload\n",
    "%autoreload 1\n",
    "\n",
    "%aimport sheet\n",
    "%aimport results_comparer\n",
    "%aimport plot\n",
    "%aimport settings_handler\n",
    "\n",
    "\n",
    "\n",
    "import cv2 as cv\n",
    "import numpy as np\n",
    "import matplotlib.pyplot as plt\n",
    "import ipywidgets as widgets\n",
    "from IPython.display import display\n",
    "from IPython.display import FileLink\n",
    "import os\n",
    "from IPython.display import clear_output, display\n"
   ]
  },
  {
   "cell_type": "code",
   "execution_count": 15,
   "metadata": {},
   "outputs": [
    {
     "data": {
      "application/vnd.jupyter.widget-view+json": {
       "model_id": "76ed4ac751d8467e8a6f02ad943b58e3",
       "version_major": 2,
       "version_minor": 0
      },
      "text/plain": [
       "Button(description='Sort by AP', style=ButtonStyle())"
      ]
     },
     "metadata": {},
     "output_type": "display_data"
    },
    {
     "data": {
      "application/vnd.jupyter.widget-view+json": {
       "model_id": "531b7b6cd9db44c386ecb89860da0571",
       "version_major": 2,
       "version_minor": 0
      },
      "text/plain": [
       "Button(description='Sort by FPRat95', style=ButtonStyle())"
      ]
     },
     "metadata": {},
     "output_type": "display_data"
    },
    {
     "data": {
      "application/vnd.jupyter.widget-view+json": {
       "model_id": "039105cf91a048dbaf291e630809db9a",
       "version_major": 2,
       "version_minor": 0
      },
      "text/plain": [
       "Output(outputs=({'output_type': 'display_data', 'data': {'text/plain': '<IPython.core.display.HTML object>', '…"
      ]
     },
     "metadata": {},
     "output_type": "display_data"
    },
    {
     "data": {
      "application/vnd.jupyter.widget-view+json": {
       "model_id": "a2023650be4b4da7a10eac192e83bd66",
       "version_major": 2,
       "version_minor": 0
      },
      "text/plain": [
       "HBox(children=(ToggleButton(value=False, button_style='success', description='grood_logml_1000K_01adamw_tau10_…"
      ]
     },
     "metadata": {},
     "output_type": "display_data"
    },
    {
     "data": {
      "application/vnd.jupyter.widget-view+json": {
       "model_id": "fa757441af5a44dc90a968710a77407a",
       "version_major": 2,
       "version_minor": 0
      },
      "text/plain": [
       "HBox(children=(ToggleButton(value=False, button_style='info', description='RA', icon='check', tooltip='Descrip…"
      ]
     },
     "metadata": {},
     "output_type": "display_data"
    }
   ],
   "source": [
    "sheet.initial_display()"
   ]
  },
  {
   "cell_type": "code",
   "execution_count": 16,
   "metadata": {},
   "outputs": [
    {
     "data": {
      "application/vnd.jupyter.widget-view+json": {
       "model_id": "131b3256e96b4453a91878b678237750",
       "version_major": 2,
       "version_minor": 0
      },
      "text/plain": [
       "HBox(children=(Dropdown(description='Algo 1:', options=('grood_logml_1000K_01adamw_tau10_resetthr1', 'grood_kn…"
      ]
     },
     "metadata": {},
     "output_type": "display_data"
    },
    {
     "data": {
      "application/vnd.jupyter.widget-view+json": {
       "model_id": "99477250eb284456b395e15b22d861ef",
       "version_major": 2,
       "version_minor": 0
      },
      "text/plain": [
       "HBox(children=(Button(button_style='info', description='Difference by AP', style=ButtonStyle()), Button(descri…"
      ]
     },
     "metadata": {},
     "output_type": "display_data"
    },
    {
     "data": {
      "application/vnd.jupyter.widget-view+json": {
       "model_id": "34cbd2f24d3c4fe0b39c917864be98dc",
       "version_major": 2,
       "version_minor": 0
      },
      "text/plain": [
       "HBox(children=(Dropdown(description='Dataset', options=('RA', 'RO', 'RO21A', 'FS'), value=None), Dropdown(desc…"
      ]
     },
     "metadata": {},
     "output_type": "display_data"
    }
   ],
   "source": [
    "results_comparer.display_controls()"
   ]
  },
  {
   "cell_type": "code",
   "execution_count": 17,
   "metadata": {},
   "outputs": [],
   "source": [
    "\n",
    "vals = {\n",
    "    'images': [None, None, None, None],  # [pred_gt, pred_gt2, default_gt, default_image]\n",
    "    'processed_images': [None, None, None],  # [alg1, alg2, default]\n",
    "    'selected_file': '01_Hanns_Klemm_Str_45_000002_000190.png',\n",
    "    'selected_folder': 'Fishyscapes_LaF',\n",
    "    'selected_algo': ['grood_knn_e2e_cityscapes_500k_fl003_condensv5_randomcrop1344_hflip_nptest_lr0025wd54_ipdf0_ioodpdf0uni1_staticood1',\n",
    "                      'grood_knn_e2e_cityscapes_500k_fl003_condensv5_randomcrop1344_hflip_nptest_lr0025wd54_ipdf0_ioodpdf0uni1_staticood1'],\n",
    "    'threshold': [0.8, 0.997] \n",
    "}"
   ]
  },
  {
   "cell_type": "code",
   "execution_count": 18,
   "metadata": {},
   "outputs": [],
   "source": [
    "def process_image(img, gt, use_dataset):\n",
    "    thresh = vals['threshold']\n",
    "    \n",
    "    # Three images\n",
    "    contoured_image = plot.drawContours(img, gt, use_dataset, thresh)\n",
    "    overlay_50 = plot.drawOverlay(0.5, img, gt, use_dataset, thresh)\n",
    "    overlay_100 = plot.drawOverlay(1, img, gt, use_dataset, thresh)\n",
    "    \n",
    "    if(use_dataset):\n",
    "        four_imgs = np.concatenate((contoured_image, overlay_50, overlay_100, img), axis=1)\n",
    "    else:\n",
    "        four_imgs = np.concatenate((contoured_image, overlay_50, overlay_100, plot.draw_differance(img, gt, vals['images'][2], thresh)), axis=1)\n",
    "    \n",
    "    \n",
    "    return four_imgs"
   ]
  },
  {
   "cell_type": "code",
   "execution_count": 19,
   "metadata": {},
   "outputs": [],
   "source": [
    "def show_final(new_gt, id, fig_size=(16, 12)):\n",
    "    \n",
    "    # změna slideru = ulozeny #2 (ctyrty obrazek) a default zustanou stejne, nacteni #1 jen metod na kresleni       show_final(False, 0)\n",
    "    # změna metody = ulozeny #1 a default zustane stejny, nacteni gt noveho + metody kresleni                       show_final(True, 1)\n",
    "    # změna filu = nacteni novych obrazku + gt + metod kresleni u všech obrázků (id 3)                              show_final(True/False, 2)\n",
    "    \n",
    "    global vals\n",
    "\n",
    "    # New files for everything\n",
    "    if id > 1:\n",
    "        selected_file = vals['selected_file']\n",
    "        selected_folder = vals['selected_folder']\n",
    "\n",
    "        vals['images'][0] = plot.load_gt(selected_file, selected_folder, vals['selected_algo'][0], False)\n",
    "        vals['images'][1] = plot.load_gt(selected_file, selected_folder, vals['selected_algo'][1], False)\n",
    "        vals['images'][2] = plot.load_gt(selected_file, selected_folder, vals['selected_algo'][1], True)\n",
    "        vals['images'][3] = plot.load_image(selected_file, selected_folder)\n",
    "\n",
    "        vals['processed_images'][0] = process_image(vals['images'][3], vals['images'][0], False)\n",
    "        vals['processed_images'][1] = process_image(vals['images'][3], vals['images'][1], False)\n",
    "        vals['processed_images'][2] = process_image(vals['images'][3], vals['images'][2], True)\n",
    "    \n",
    "    # New process / gt + process for selected image \n",
    "    else:\n",
    "        # Process image with new gt with ID\n",
    "        if new_gt:\n",
    "            vals['images'][id] = plot.load_gt(vals['selected_file'], vals['selected_folder'], vals['selected_algo'][id], False)\n",
    "            vals['processed_images'][id] = process_image(vals['images'][3], vals['images'][id], False)\n",
    "        # Process with old gt with ID \n",
    "        else:\n",
    "            vals['processed_images'][id] = process_image(vals['images'][3], vals['images'][id], False)\n",
    "\n",
    "    final_image = np.concatenate((vals['processed_images'][2], vals['processed_images'][0], vals['processed_images'][1]), axis=0)  # combined alg1 and default\n",
    "    \n",
    "    with output:\n",
    "        clear_output(wait=True)\n",
    "        plt.figure(figsize=fig_size)\n",
    "        plt.imshow(final_image)\n",
    "        plt.axis('off')\n",
    "        plt.title('Contours and Overlays')\n",
    "        plt.show()"
   ]
  },
  {
   "cell_type": "code",
   "execution_count": 20,
   "metadata": {},
   "outputs": [],
   "source": [
    "def on_folder_selected(change):\n",
    "    vals['selected_folder'] = change['new']\n",
    "    # Update the image selector options based on the selected folder\n",
    "    image_selector_widget.options = plot.get_all_files(f'data/export/datasets/{vals[\"selected_folder\"]}/test/imgs/')"
   ]
  },
  {
   "cell_type": "code",
   "execution_count": 21,
   "metadata": {},
   "outputs": [],
   "source": [
    "def on_algo_selected(change, id):    \n",
    "    vals['selected_algo'][id] = change['new']\n",
    "    # Show the image with the new model selected\n",
    "    show_final(True, id)"
   ]
  },
  {
   "cell_type": "code",
   "execution_count": 22,
   "metadata": {},
   "outputs": [],
   "source": [
    "def on_file_selected(change):\n",
    "    vals['selected_file'] = change['new']\n",
    "    # Show the image with the new file selected\n",
    "    show_final(True, 3)"
   ]
  },
  {
   "cell_type": "code",
   "execution_count": 23,
   "metadata": {},
   "outputs": [],
   "source": [
    "def update_slider(change, id):    \n",
    "    if(id == 0):\n",
    "        vals['threshold'] = [road_slider0.value, obstacle_slider0.value]\n",
    "    \n",
    "    else:\n",
    "        vals['threshold'] = [road_slider1.value, obstacle_slider1.value]\n",
    "    \n",
    "    # Show the image with the updated slider values\n",
    "    show_final(False, id)"
   ]
  },
  {
   "cell_type": "code",
   "execution_count": 24,
   "metadata": {},
   "outputs": [],
   "source": [
    "def save_image(b):\n",
    "    # Create 'output' directory if it doesn't exist\n",
    "    output_dir = 'output'\n",
    "    if not os.path.exists(output_dir):\n",
    "        os.makedirs(output_dir)\n",
    "\n",
    "    # Define the filename with the 'output' directory\n",
    "    filename = os.path.join(output_dir, 'combined_image.png')\n",
    "    \n",
    "    final_rgb = np.concatenate((vals['processed_images'][2], vals['processed_images'][0], vals['processed_images'][1]), axis=0)[:, :, [2, 1, 0]]\n",
    "    \n",
    "    cv.imwrite(filename, final_rgb)\n",
    "    display(FileLink(filename))\n",
    "\n",
    "# Create a save button\n",
    "save_button = widgets.Button(description=\"Save Image\") \n",
    "save_button.on_click(save_image)"
   ]
  },
  {
   "cell_type": "code",
   "execution_count": 25,
   "metadata": {},
   "outputs": [
    {
     "data": {
      "application/vnd.jupyter.widget-view+json": {
       "model_id": "52f7801d994a423db1faa9a6e62d04b6",
       "version_major": 2,
       "version_minor": 0
      },
      "text/plain": [
       "Dropdown(description='Choose folder', layout=Layout(width='500px'), options=('Fishyscapes_LaF', 'RoadObstacles…"
      ]
     },
     "metadata": {},
     "output_type": "display_data"
    },
    {
     "data": {
      "application/vnd.jupyter.widget-view+json": {
       "model_id": "7bc7f0a0b2f34f69bea8ad5f5fa29cc7",
       "version_major": 2,
       "version_minor": 0
      },
      "text/plain": [
       "Dropdown(description='Choose file', layout=Layout(width='500px'), options=('01_Hanns_Klemm_Str_45_000003_00009…"
      ]
     },
     "metadata": {},
     "output_type": "display_data"
    },
    {
     "data": {
      "application/vnd.jupyter.widget-view+json": {
       "model_id": "b9a059840feb4adaa12aae7ea3ca8b69",
       "version_major": 2,
       "version_minor": 0
      },
      "text/plain": [
       "Dropdown(description='Choose Algorithm 0', layout=Layout(width='500px'), options=('grood_logml_1000K_01adamw_t…"
      ]
     },
     "metadata": {},
     "output_type": "display_data"
    },
    {
     "data": {
      "application/vnd.jupyter.widget-view+json": {
       "model_id": "f1eba29120464d8da13f533a79f12481",
       "version_major": 2,
       "version_minor": 0
      },
      "text/plain": [
       "Dropdown(description='Choose Algorithm 1', layout=Layout(width='500px'), options=('grood_logml_1000K_01adamw_t…"
      ]
     },
     "metadata": {},
     "output_type": "display_data"
    },
    {
     "data": {
      "application/vnd.jupyter.widget-view+json": {
       "model_id": "6bf16b1f917141778bab183fc00c144e",
       "version_major": 2,
       "version_minor": 0
      },
      "text/plain": [
       "FloatSlider(value=0.8, description='Road Threshold', layout=Layout(width='500px'), max=0.9995, min=0.4, readou…"
      ]
     },
     "metadata": {},
     "output_type": "display_data"
    },
    {
     "data": {
      "application/vnd.jupyter.widget-view+json": {
       "model_id": "d541408c3be94f9aa216db662d48a16d",
       "version_major": 2,
       "version_minor": 0
      },
      "text/plain": [
       "FloatSlider(value=0.997, description='Obstacle Threshold', layout=Layout(width='500px'), max=1.0, min=0.95, re…"
      ]
     },
     "metadata": {},
     "output_type": "display_data"
    },
    {
     "data": {
      "application/vnd.jupyter.widget-view+json": {
       "model_id": "468d2b3007d54958a0d50bde5d6f70fc",
       "version_major": 2,
       "version_minor": 0
      },
      "text/plain": [
       "FloatSlider(value=0.8, description='Road Threshold', layout=Layout(width='500px'), max=0.9995, min=0.4, readou…"
      ]
     },
     "metadata": {},
     "output_type": "display_data"
    },
    {
     "data": {
      "application/vnd.jupyter.widget-view+json": {
       "model_id": "b4e5e98351864379b7daa77e722de7fc",
       "version_major": 2,
       "version_minor": 0
      },
      "text/plain": [
       "FloatSlider(value=0.997, description='Obstacle Threshold', layout=Layout(width='500px'), max=1.0, min=0.95, re…"
      ]
     },
     "metadata": {},
     "output_type": "display_data"
    },
    {
     "data": {
      "application/vnd.jupyter.widget-view+json": {
       "model_id": "b0d47e82c8c7478c8e8d341e322106de",
       "version_major": 2,
       "version_minor": 0
      },
      "text/plain": [
       "Output()"
      ]
     },
     "metadata": {},
     "output_type": "display_data"
    },
    {
     "data": {
      "application/vnd.jupyter.widget-view+json": {
       "model_id": "32bb95334911408b835ed112395c9ecf",
       "version_major": 2,
       "version_minor": 0
      },
      "text/plain": [
       "Button(description='Save Image', style=ButtonStyle())"
      ]
     },
     "metadata": {},
     "output_type": "display_data"
    }
   ],
   "source": [
    "output = widgets.Output()\n",
    "\n",
    "road_slider0 = widgets.FloatSlider(value=vals['threshold'][0], min=0.4, max=0.9995, step=0.0001, description='Road Threshold', readout_format='.4f',\n",
    "                                  style={'description_width': 'initial'}, layout=widgets.Layout(width='500px'))\n",
    "road_slider0.observe(lambda change:update_slider(change, 0), names='value')\n",
    "\n",
    "obstacle_slider0 = widgets.FloatSlider(value=vals['threshold'][1], min=0.95, max=1, step=0.0001, description='Obstacle Threshold', readout_format='.4f', \n",
    "                                      style={'description_width': 'initial'}, layout=widgets.Layout(width='500px'))\n",
    "obstacle_slider0.observe(lambda change:update_slider(change, 0), names='value')\n",
    "\n",
    "\n",
    "road_slider1 = widgets.FloatSlider(value=vals['threshold'][0], min=0.4, max=0.9995, step=0.0001, description='Road Threshold', readout_format='.4f',\n",
    "                                  style={'description_width': 'initial'}, layout=widgets.Layout(width='500px'))\n",
    "road_slider1.observe(lambda change:update_slider(change, 1), names='value')\n",
    "\n",
    "obstacle_slider1 = widgets.FloatSlider(value=vals['threshold'][1], min=0.95, max=1, step=0.0001, description='Obstacle Threshold', readout_format='.4f', \n",
    "                                      style={'description_width': 'initial'}, layout=widgets.Layout(width='500px'))\n",
    "obstacle_slider1.observe(lambda change:update_slider(change, 1), names='value')\n",
    "\n",
    "folder_selector_widget = widgets.Dropdown(\n",
    "    options=plot.get_all_folders('data/export/datasets/'),  # Call the folder-only function\n",
    "    description='Choose folder',\n",
    "    disabled=False,\n",
    "    style={'description_width': 'initial'}, layout=widgets.Layout(width='500px')\n",
    ")\n",
    "folder_selector_widget.observe(on_folder_selected, names='value')\n",
    "\n",
    "image_selector_widget = widgets.Dropdown(\n",
    "    options=plot.get_all_files('data/export/datasets/' + vals['selected_folder'] + '/test/imgs/'),\n",
    "    description='Choose file',\n",
    "    disabled=False,\n",
    "    style={'description_width': 'initial'}, layout=widgets.Layout(width='500px')\n",
    ")\n",
    "image_selector_widget.observe(on_file_selected, names='value')\n",
    "\n",
    "algo_selector_widget0 = widgets.Dropdown(\n",
    "    options=plot.get_all_folders('data/export/results/'),\n",
    "    description='Choose Algorithm 0',\n",
    "    disabled=False,\n",
    "    style={'description_width': 'initial'}, layout=widgets.Layout(width='500px')\n",
    ")\n",
    "algo_selector_widget0.observe(lambda change: on_algo_selected(change, 0), names='value')\n",
    "\n",
    "algo_selector_widget1 = widgets.Dropdown(\n",
    "    options=plot.get_all_folders('data/export/results/'),\n",
    "    description='Choose Algorithm 1',\n",
    "    disabled=False,\n",
    "    style={'description_width': 'initial'}, layout=widgets.Layout(width='500px')\n",
    ")\n",
    "algo_selector_widget1.observe(lambda change: on_algo_selected(change, 1), names='value')\n",
    "\n",
    " \n",
    "\n",
    "display(folder_selector_widget, image_selector_widget, algo_selector_widget0, algo_selector_widget1, road_slider0, obstacle_slider0, road_slider1, obstacle_slider1, output, save_button)\n",
    "show_final(True, 3)\n"
   ]
  },
  {
   "cell_type": "code",
   "execution_count": 26,
   "metadata": {},
   "outputs": [
    {
     "data": {
      "application/vnd.jupyter.widget-view+json": {
       "model_id": "e94728b75e00495abc8ae23809cd6ec4",
       "version_major": 2,
       "version_minor": 0
      },
      "text/plain": [
       "Dropdown(description='Choose preset', options=(), value=None)"
      ]
     },
     "metadata": {},
     "output_type": "display_data"
    },
    {
     "data": {
      "application/vnd.jupyter.widget-view+json": {
       "model_id": "2ef91f02f11640429237633bac3c013f",
       "version_major": 2,
       "version_minor": 0
      },
      "text/plain": [
       "Button(button_style='success', description='Load', style=ButtonStyle(), tooltip='Click to load data')"
      ]
     },
     "metadata": {},
     "output_type": "display_data"
    },
    {
     "data": {
      "application/vnd.jupyter.widget-view+json": {
       "model_id": "1b934fdef66e44dd8eaeb4108d37372b",
       "version_major": 2,
       "version_minor": 0
      },
      "text/plain": [
       "Text(value='', description='Name preset', placeholder='Do not include .json')"
      ]
     },
     "metadata": {},
     "output_type": "display_data"
    },
    {
     "data": {
      "application/vnd.jupyter.widget-view+json": {
       "model_id": "0cf8397ff1d04b94a9148dceb5480227",
       "version_major": 2,
       "version_minor": 0
      },
      "text/plain": [
       "Button(button_style='success', description='Save', style=ButtonStyle(), tooltip='Click to save data')"
      ]
     },
     "metadata": {},
     "output_type": "display_data"
    }
   ],
   "source": [
    "settings_handler.display_settings()"
   ]
  }
 ],
 "metadata": {
  "kernelspec": {
   "display_name": "venv",
   "language": "python",
   "name": "python3"
  },
  "language_info": {
   "codemirror_mode": {
    "name": "ipython",
    "version": 3
   },
   "file_extension": ".py",
   "mimetype": "text/x-python",
   "name": "python",
   "nbconvert_exporter": "python",
   "pygments_lexer": "ipython3",
   "version": "3.10.12"
  }
 },
 "nbformat": 4,
 "nbformat_minor": 2
}
