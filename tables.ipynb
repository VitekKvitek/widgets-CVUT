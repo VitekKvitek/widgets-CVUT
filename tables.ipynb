{
 "cells": [
  {
   "cell_type": "code",
   "execution_count": 46,
   "metadata": {},
   "outputs": [],
   "source": [
    "import ipywidgets as widgets\n",
    "from IPython.display import display\n",
    "import pandas as pd\n",
    "from IPython.display import display, HTML"
   ]
  },
  {
   "cell_type": "code",
   "execution_count": 47,
   "metadata": {},
   "outputs": [],
   "source": [
    "def sort_by_best_average(df, average_type):\n",
    "    # Ensure the average_type is valid\n",
    "    if average_type not in ['AP', 'FPRat95']:\n",
    "        raise ValueError(\"average_type must be either 'AP' or 'FPRat95'\")\n",
    "    \n",
    "    # Determine the column to sort by\n",
    "    if average_type == 'AP':\n",
    "        average_column = 'Average AP'\n",
    "    else:\n",
    "        average_column = 'Average FPRat95'\n",
    "    \n",
    "    # Sort the DataFrame by the selected average column in descending order\n",
    "    sorted_df = df.sort_values(by=average_column, ascending=False)\n",
    "    \n",
    "    return sorted_df"
   ]
  },
  {
   "cell_type": "code",
   "execution_count": 48,
   "metadata": {},
   "outputs": [],
   "source": [
    "# create a dictionary\n",
    "data = {\n",
    "    \"Method 1\": [\"18\", \"25\", \"31\", \"10\"],\n",
    "    \"Method 2\": [\"95\", \"36\", \"28\", \"33\"],\n",
    "    \"Method 3\": [\"9\", \"42\", \"72\", \"22\"],\n",
    "    \"Method 4\": [\"12\", \"69\", \"85\", \"15\"],\n",
    "}\n",
    "# create dataframe from dictionary\n",
    "df = pd.DataFrame(data)\n",
    "df = df.transpose()\n",
    "df.columns = ['Dataset 1 (AP)', 'Dataset 1 (FPRat95)', 'Dataset 2 (AP)', 'Dataset 2 (FPRat95)']\n",
    "# Extract AP and FPRat95 columns\n",
    "ap_columns = [col for col in df.columns if 'AP' in col]\n",
    "fprat95_columns = [col for col in df.columns if 'FPRat95' in col]\n",
    "\n",
    "df = df.apply(pd.to_numeric)\n",
    "# Calculate the average for AP and FPRat95\n",
    "df['Average AP'] = df[ap_columns].mean(axis=1)\n",
    "df['Average FPRat95'] = df[fprat95_columns].mean(axis=1)\n",
    "\n",
    "df = sort_by_best_average(df, 'AP')"
   ]
  },
  {
   "cell_type": "code",
   "execution_count": 49,
   "metadata": {},
   "outputs": [],
   "source": [
    "def sort_button_on_click(b):\n",
    "    global after_black_list_df\n",
    "    score_type = b.description.split()[-1]\n",
    "    with out:\n",
    "        out.clear_output()  # Clear previous output\n",
    "        after_black_list_df = sort_by_best_average(after_black_list_df, score_type)\n",
    "        display(HTML(after_black_list_df.to_html()))  # Display the sorted DataFrame\n"
   ]
  },
  {
   "cell_type": "code",
   "execution_count": 50,
   "metadata": {},
   "outputs": [],
   "source": [
    "button_AP = widgets.Button(description=\"Sort by AP\")\n",
    "button_AP.on_click(sort_button_on_click)"
   ]
  },
  {
   "cell_type": "code",
   "execution_count": 51,
   "metadata": {},
   "outputs": [],
   "source": [
    "FPRat95_button = widgets.Button(description=\"Sort by FPRat95\")\n",
    "FPRat95_button.on_click(sort_button_on_click)"
   ]
  },
  {
   "cell_type": "code",
   "execution_count": 52,
   "metadata": {},
   "outputs": [
    {
     "data": {
      "application/vnd.jupyter.widget-view+json": {
       "model_id": "f8fc9e09bce04b79b2596b97e96dde8a",
       "version_major": 2,
       "version_minor": 0
      },
      "text/plain": [
       "Button(description='Sort by AP', style=ButtonStyle())"
      ]
     },
     "metadata": {},
     "output_type": "display_data"
    },
    {
     "data": {
      "application/vnd.jupyter.widget-view+json": {
       "model_id": "31ea7c39e312463cb308e09dc6f83ae8",
       "version_major": 2,
       "version_minor": 0
      },
      "text/plain": [
       "Button(description='Sort by FPRat95', style=ButtonStyle())"
      ]
     },
     "metadata": {},
     "output_type": "display_data"
    },
    {
     "data": {
      "application/vnd.jupyter.widget-view+json": {
       "model_id": "40e90393679a4f36ac34ba2e648b4202",
       "version_major": 2,
       "version_minor": 0
      },
      "text/plain": [
       "Output()"
      ]
     },
     "metadata": {},
     "output_type": "display_data"
    }
   ],
   "source": [
    "# Create output widget to display DataFrame\n",
    "out = widgets.Output()\n",
    "\n",
    "# # Display the initial DataFrame\n",
    "# with out:\n",
    "#     display(HTML(after_black_list_df.to_html()))\n",
    "\n",
    "\n",
    "# Display the button and the output\n",
    "display(button_AP, FPRat95_button, out)"
   ]
  },
  {
   "cell_type": "code",
   "execution_count": 53,
   "metadata": {},
   "outputs": [],
   "source": [
    "after_black_list_df = df\n",
    "def on_button_toggle(change):\n",
    "    global after_black_list_df\n",
    "    global df\n",
    "    toggled = change['new']\n",
    "    button_description = change['owner'].description\n",
    "    if toggled:\n",
    "        after_black_list_df = after_black_list_df.drop(button_description)\n",
    "    else:\n",
    "        #BUG\n",
    "        print(button_description)\n",
    "        print(after_black_list_df)\n",
    "        print(df)\n",
    "        print(df.index.tolist())\n",
    "        indexes = df.index.tolist()\n",
    "        after_black_list_df.loc[button_description] = df.loc[indexes[0]]\n",
    "    "
   ]
  },
  {
   "cell_type": "code",
   "execution_count": 54,
   "metadata": {},
   "outputs": [
    {
     "data": {
      "application/vnd.jupyter.widget-view+json": {
       "model_id": "b9c1c7a801e946618ba771ae20cf7a0c",
       "version_major": 2,
       "version_minor": 0
      },
      "text/plain": [
       "ToggleButton(value=False, button_style='danger', description='Method 2', icon='check', tooltip='Description')"
      ]
     },
     "metadata": {},
     "output_type": "display_data"
    },
    {
     "data": {
      "application/vnd.jupyter.widget-view+json": {
       "model_id": "8517f00033ba416093d606f417a48893",
       "version_major": 2,
       "version_minor": 0
      },
      "text/plain": [
       "ToggleButton(value=False, button_style='danger', description='Method 4', icon='check', tooltip='Description')"
      ]
     },
     "metadata": {},
     "output_type": "display_data"
    },
    {
     "data": {
      "application/vnd.jupyter.widget-view+json": {
       "model_id": "90042aa2352444458bc12db2c995a494",
       "version_major": 2,
       "version_minor": 0
      },
      "text/plain": [
       "ToggleButton(value=False, button_style='danger', description='Method 3', icon='check', tooltip='Description')"
      ]
     },
     "metadata": {},
     "output_type": "display_data"
    },
    {
     "data": {
      "application/vnd.jupyter.widget-view+json": {
       "model_id": "9788bb13e6194a2481bf8fb8a58a6238",
       "version_major": 2,
       "version_minor": 0
      },
      "text/plain": [
       "ToggleButton(value=False, button_style='danger', description='Method 1', icon='check', tooltip='Description')"
      ]
     },
     "metadata": {},
     "output_type": "display_data"
    },
    {
     "name": "stdout",
     "output_type": "stream",
     "text": [
      "Method 2\n",
      "          Dataset 1 (AP)  Dataset 1 (FPRat95)  Dataset 2 (AP)  \\\n",
      "Method 4              12                   69              85   \n",
      "Method 3               9                   42              72   \n",
      "Method 1              18                   25              31   \n",
      "\n",
      "          Dataset 2 (FPRat95)  Average AP  Average FPRat95  \n",
      "Method 4                   15        48.5             42.0  \n",
      "Method 3                   22        40.5             32.0  \n",
      "Method 1                   10        24.5             17.5  \n",
      "          Dataset 1 (AP)  Dataset 1 (FPRat95)  Dataset 2 (AP)  \\\n",
      "Method 2              95                   36              28   \n",
      "Method 4              12                   69              85   \n",
      "Method 3               9                   42              72   \n",
      "Method 1              18                   25              31   \n",
      "\n",
      "          Dataset 2 (FPRat95)  Average AP  Average FPRat95  \n",
      "Method 2                   33        61.5             34.5  \n",
      "Method 4                   15        48.5             42.0  \n",
      "Method 3                   22        40.5             32.0  \n",
      "Method 1                   10        24.5             17.5  \n",
      "['Method 2', 'Method 4', 'Method 3', 'Method 1']\n",
      "Method 2\n",
      "          Dataset 1 (AP)  Dataset 1 (FPRat95)  Dataset 2 (AP)  \\\n",
      "Method 4            12.0                 69.0            85.0   \n",
      "Method 3             9.0                 42.0            72.0   \n",
      "Method 1            18.0                 25.0            31.0   \n",
      "\n",
      "          Dataset 2 (FPRat95)  Average AP  Average FPRat95  \n",
      "Method 4                 15.0        48.5             42.0  \n",
      "Method 3                 22.0        40.5             32.0  \n",
      "Method 1                 10.0        24.5             17.5  \n",
      "          Dataset 1 (AP)  Dataset 1 (FPRat95)  Dataset 2 (AP)  \\\n",
      "Method 2              95                   36              28   \n",
      "Method 4              12                   69              85   \n",
      "Method 3               9                   42              72   \n",
      "Method 1              18                   25              31   \n",
      "\n",
      "          Dataset 2 (FPRat95)  Average AP  Average FPRat95  \n",
      "Method 2                   33        61.5             34.5  \n",
      "Method 4                   15        48.5             42.0  \n",
      "Method 3                   22        40.5             32.0  \n",
      "Method 1                   10        24.5             17.5  \n",
      "['Method 2', 'Method 4', 'Method 3', 'Method 1']\n"
     ]
    }
   ],
   "source": [
    "all_mehtods = df.index.tolist()\n",
    "black_list = []\n",
    "for method in all_mehtods:\n",
    "    new_toggle_button = widgets.ToggleButton(\n",
    "                            value=False,\n",
    "                            description= method,\n",
    "                            disabled=False,\n",
    "                            button_style='danger', # 'success', 'info', 'warning', 'danger' or ''\n",
    "                            tooltip='Description',\n",
    "                            icon='check' # (FontAwesome names without the `fa-` prefix)\n",
    "                        )\n",
    "    black_list.append(new_toggle_button)\n",
    "for item in black_list:\n",
    "    item.observe(on_button_toggle, names='value')\n",
    "    display(item)"
   ]
  }
 ],
 "metadata": {
  "kernelspec": {
   "display_name": "venv",
   "language": "python",
   "name": "python3"
  },
  "language_info": {
   "codemirror_mode": {
    "name": "ipython",
    "version": 3
   },
   "file_extension": ".py",
   "mimetype": "text/x-python",
   "name": "python",
   "nbconvert_exporter": "python",
   "pygments_lexer": "ipython3",
   "version": "3.10.12"
  }
 },
 "nbformat": 4,
 "nbformat_minor": 2
}
